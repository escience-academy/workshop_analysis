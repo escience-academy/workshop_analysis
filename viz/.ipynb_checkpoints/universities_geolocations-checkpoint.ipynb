{
 "cells": [
  {
   "cell_type": "markdown",
   "id": "9c31f52b",
   "metadata": {},
   "source": [
    "# Get geolocations for universities"
   ]
  },
  {
   "cell_type": "code",
   "execution_count": null,
   "id": "45e764a5",
   "metadata": {},
   "outputs": [],
   "source": [
    "# import packages\n",
    "\n",
    "import numpy as np\n",
    "import pandas as pd\n",
    "import geopandas as gpd\n",
    "import geopy"
   ]
  },
  {
   "cell_type": "code",
   "execution_count": null,
   "id": "aef357ba",
   "metadata": {},
   "outputs": [],
   "source": [
    "# import university data\n",
    "\n",
    "universities = pd.read_csv('../data/universities.csv', sep = ';')\n",
    "universities.head()"
   ]
  },
  {
   "cell_type": "code",
   "execution_count": null,
   "id": "0c3fc6aa",
   "metadata": {},
   "outputs": [],
   "source": [
    "# concatenate columns into 1 addres column\n",
    "\n",
    "universities['Address'] = universities['Street'] + ' ' + universities['Number'].astype(str) + ', ' + universities['Postal code'] + ', ' + universities['City'] + ', Nederland'\n",
    "universities.head()"
   ]
  },
  {
   "cell_type": "code",
   "execution_count": null,
   "id": "b222429c",
   "metadata": {},
   "outputs": [],
   "source": [
    "# get geo coordinates from addresses\n",
    "\n",
    "from geopy.geocoders import Nominatim\n",
    "geolocator = Nominatim(user_agent=\"my-example\")\n",
    "\n",
    "from geopy.extra.rate_limiter import RateLimiter\n",
    "\n",
    "# 1 - function to delay between geocoding calls\n",
    "geocode = RateLimiter(geolocator.geocode, min_delay_seconds=1)\n",
    "\n",
    "# 2- - create location column\n",
    "universities['Location'] = universities['Address'].apply(geocode)\n",
    "\n",
    "# 3 - create longitude, laatitude and altitude from location column (returns tuple)\n",
    "universities['point'] = universities['Location'].apply(lambda loc: tuple(loc.point) if loc else None)\n",
    "\n",
    "# 4 - split point column into latitude, longitude and altitude columns\n",
    "universities[['latitude', 'longitude', 'altitude']] = pd.DataFrame(universities['point'].tolist(), index=universities.index)\n"
   ]
  },
  {
   "cell_type": "code",
   "execution_count": null,
   "id": "fc39d331",
   "metadata": {
    "scrolled": true
   },
   "outputs": [],
   "source": [
    "# drop unnecessary columns\n",
    "universities_geo = universities.drop(columns =['Street', 'Number', 'Postal code', 'City', 'Location', 'point', 'altitude'])"
   ]
  },
  {
   "cell_type": "code",
   "execution_count": null,
   "id": "b464620a",
   "metadata": {},
   "outputs": [],
   "source": [
    "universities_geo.head()"
   ]
  },
  {
   "cell_type": "code",
   "execution_count": null,
   "id": "9aee912f",
   "metadata": {},
   "outputs": [],
   "source": [
    "# save new file with geolocations\n",
    "\n",
    "universities_geo.to_csv('../data/universities_geo.csv')"
   ]
  },
  {
   "cell_type": "code",
   "execution_count": null,
   "id": "24ab4a13",
   "metadata": {},
   "outputs": [],
   "source": []
  },
  {
   "cell_type": "code",
   "execution_count": null,
   "id": "1ef815b9",
   "metadata": {},
   "outputs": [],
   "source": []
  }
 ],
 "metadata": {
  "kernelspec": {
   "display_name": "geo_env",
   "language": "python",
   "name": "geo_env"
  },
  "language_info": {
   "codemirror_mode": {
    "name": "ipython",
    "version": 3
   },
   "file_extension": ".py",
   "mimetype": "text/x-python",
   "name": "python",
   "nbconvert_exporter": "python",
   "pygments_lexer": "ipython3",
   "version": "3.9.6"
  }
 },
 "nbformat": 4,
 "nbformat_minor": 5
}
