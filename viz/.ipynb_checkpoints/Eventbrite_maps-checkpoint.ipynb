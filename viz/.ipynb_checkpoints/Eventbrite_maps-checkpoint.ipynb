{
 "cells": [
  {
   "cell_type": "markdown",
   "id": "d9e68835",
   "metadata": {},
   "source": [
    "# Visualization of EventBrite data: maps"
   ]
  },
  {
   "cell_type": "code",
   "execution_count": null,
   "id": "9b03cf95",
   "metadata": {},
   "outputs": [],
   "source": [
    "# import packages\n",
    "\n",
    "import numpy as np\n",
    "import pandas as pd\n",
    "import matplotlib.pyplot as plt\n",
    "import seaborn as sns\n",
    "import geopandas as gpd\n",
    "import geopy"
   ]
  },
  {
   "cell_type": "code",
   "execution_count": null,
   "id": "180ad3bd",
   "metadata": {},
   "outputs": [],
   "source": [
    "# import shapefile of Netherlands provincial boundaries\n",
    "\n",
    "nederland = gpd.read_file('../data/Provinciegrenzen_2019-shp/Provinciegrenzen_2019.shp')"
   ]
  },
  {
   "cell_type": "code",
   "execution_count": null,
   "id": "8859a112",
   "metadata": {},
   "outputs": [],
   "source": [
    "nederland.head()"
   ]
  },
  {
   "cell_type": "code",
   "execution_count": null,
   "id": "17629990",
   "metadata": {},
   "outputs": [],
   "source": [
    "# plot map of Netherlands\n",
    "\n",
    "nederland.plot(color = 'silver', edgecolor = 'gray')"
   ]
  },
  {
   "cell_type": "code",
   "execution_count": null,
   "id": "0814b94c",
   "metadata": {},
   "outputs": [],
   "source": [
    "# import university data\n",
    "\n",
    "universities = pd.read_csv('../data/universities_geo.csv')\n",
    "universities.head()"
   ]
  },
  {
   "cell_type": "code",
   "execution_count": null,
   "id": "dda8bebf",
   "metadata": {},
   "outputs": [],
   "source": [
    "# import universities data as geodataframe\n",
    "\n",
    "gdf = gpd.GeoDataFrame(universities, geometry = gpd.points_from_xy(universities['longitude'], universities['latitude']))\n",
    "\n",
    "gdf.head()"
   ]
  },
  {
   "cell_type": "code",
   "execution_count": null,
   "id": "579e3a8d",
   "metadata": {},
   "outputs": [],
   "source": []
  },
  {
   "cell_type": "code",
   "execution_count": null,
   "id": "eaf6e3e7",
   "metadata": {},
   "outputs": [],
   "source": [
    "# check datatype\n",
    "\n",
    "type(gdf.geometry)"
   ]
  },
  {
   "cell_type": "code",
   "execution_count": null,
   "id": "75deea31",
   "metadata": {},
   "outputs": [],
   "source": [
    "# check CRS of nederland geo df\n",
    "\n",
    "print(nederland.crs)"
   ]
  },
  {
   "cell_type": "code",
   "execution_count": null,
   "id": "b7c400f2",
   "metadata": {},
   "outputs": [],
   "source": [
    "# assign CRS to gdf\n",
    "\n",
    "gdf.crs = \"EPSG:4326\""
   ]
  },
  {
   "cell_type": "code",
   "execution_count": null,
   "id": "506ea32f",
   "metadata": {
    "scrolled": false
   },
   "outputs": [],
   "source": [
    "# plot university by size on Netherlands map \n",
    "\n",
    "base = nederland.plot(color='silver', edgecolor='gray')\n",
    "ax = gdf.plot(ax=base, marker='o', color='gold', markersize=gdf['Staff_number']/3)\n",
    "ax.set_axis_off()\n",
    "\n"
   ]
  },
  {
   "cell_type": "code",
   "execution_count": null,
   "id": "3e71c0c8",
   "metadata": {},
   "outputs": [],
   "source": [
    "# now make df including event participants per university\n",
    "# import main data file\n",
    "\n",
    "df = pd.read_csv(\"../data/all_event_data.csv\")\n",
    "df.head()"
   ]
  },
  {
   "cell_type": "code",
   "execution_count": null,
   "id": "4f4cc385",
   "metadata": {},
   "outputs": [],
   "source": [
    "df['affiliation_type'].value_counts()"
   ]
  },
  {
   "cell_type": "code",
   "execution_count": null,
   "id": "c0cbe8da",
   "metadata": {
    "scrolled": true
   },
   "outputs": [],
   "source": [
    "df2 = df[df['affiliation_type'] == 'University']\n",
    "df2.head()"
   ]
  },
  {
   "cell_type": "code",
   "execution_count": null,
   "id": "631c93d6",
   "metadata": {
    "scrolled": false
   },
   "outputs": [],
   "source": [
    "df3 = pd.DataFrame(df2['affiliation'].value_counts())\n",
    "df3.reset_index(inplace = True)\n",
    "df3.rename(columns = {'index': 'University', 'affiliation': 'participants'}, inplace = True)\n",
    "df3.head(14)"
   ]
  },
  {
   "cell_type": "code",
   "execution_count": null,
   "id": "f6973668",
   "metadata": {},
   "outputs": [],
   "source": [
    "print(list(gdf['University']))"
   ]
  },
  {
   "cell_type": "code",
   "execution_count": null,
   "id": "e80d613d",
   "metadata": {},
   "outputs": [],
   "source": [
    "# change university names so that they match the one in the university df\n",
    "\n",
    "df3['University'].replace({\"TU DELFT\": \"TU Delft\",\n",
    "                           \"UVA\": \"University of Amsterdam\",\n",
    "                           \"VU AMSTERDAM\": \"VU Amsterdam\",\n",
    "                           \"UTRECHT UNIVERSITY\": \"University Utrecht\",\n",
    "                           \"LEIDEN UNIVERSITY\": \"Leiden University\",\n",
    "                           \"WAGENINGEN UNIVERSITY\": \"Wageningen University\",\n",
    "                           \"UNIVERSITY OF TWENTE\": \"University Twente\",\n",
    "                           \"TU/E\": \"TU Eindhoven\",\n",
    "                           \"RADBOUD UNIVERSITY NIJMEGEN\": \"Radboud University\",\n",
    "                           \"UNIVERSITY OF GRONINGEN\": \"University of Groningen\",\n",
    "                           \"MAASTRICHT UNIVERSITY\": \"Maastricht University\",\n",
    "                           \"TILBURG UNIVERSITY\": \"Tilburg University\"},\n",
    "                           inplace = True)"
   ]
  },
  {
   "cell_type": "code",
   "execution_count": null,
   "id": "f3980121",
   "metadata": {
    "scrolled": true
   },
   "outputs": [],
   "source": [
    "# now join the dfs\n",
    "\n",
    "gdf_universities = pd.merge(gdf, df3, on = 'University', how = 'left')\n",
    "gdf_universities.head()"
   ]
  },
  {
   "cell_type": "code",
   "execution_count": null,
   "id": "5bcf7519",
   "metadata": {},
   "outputs": [],
   "source": [
    "type(gdf_universities.geometry)"
   ]
  },
  {
   "cell_type": "code",
   "execution_count": null,
   "id": "59cba42d",
   "metadata": {},
   "outputs": [],
   "source": [
    "# plot universities sized by event participant number on Netherlands map \n",
    "\n",
    "base = nederland.plot(color='silver', edgecolor='gray')\n",
    "ax = gdf_universities.plot(ax=base, marker='o', color='deepskyblue', markersize=gdf_universities['participants']*50)\n",
    "ax.set_axis_off()"
   ]
  },
  {
   "cell_type": "code",
   "execution_count": null,
   "id": "cf098800",
   "metadata": {},
   "outputs": [],
   "source": [
    "# make column with participants relative to university size\n",
    "\n",
    "gdf_universities['participants_rel'] = gdf_universities['participants'] / gdf_universities['Staff_number']\n",
    "gdf_universities.head()"
   ]
  },
  {
   "cell_type": "code",
   "execution_count": null,
   "id": "f70ee6ca",
   "metadata": {},
   "outputs": [],
   "source": [
    "# plot this on the map\n",
    "\n",
    "base = nederland.plot(color='silver', edgecolor='gray')\n",
    "ax = gdf_universities.plot(ax=base, marker='o', color='deepskyblue', markersize=gdf_universities['participants_rel']*200000)\n",
    "ax.set_axis_off()"
   ]
  },
  {
   "cell_type": "code",
   "execution_count": null,
   "id": "ccc6f4ee",
   "metadata": {},
   "outputs": [],
   "source": []
  }
 ],
 "metadata": {
  "kernelspec": {
   "display_name": "geo_env",
   "language": "python",
   "name": "geo_env"
  },
  "language_info": {
   "codemirror_mode": {
    "name": "ipython",
    "version": 3
   },
   "file_extension": ".py",
   "mimetype": "text/x-python",
   "name": "python",
   "nbconvert_exporter": "python",
   "pygments_lexer": "ipython3",
   "version": "3.9.6"
  }
 },
 "nbformat": 4,
 "nbformat_minor": 5
}
