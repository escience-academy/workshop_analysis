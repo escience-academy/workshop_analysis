{
 "cells": [
  {
   "cell_type": "markdown",
   "id": "dd245c43",
   "metadata": {},
   "source": [
    "# Visualization of EventBrite data: bar charts"
   ]
  },
  {
   "cell_type": "code",
   "execution_count": 27,
   "id": "71239a50",
   "metadata": {},
   "outputs": [],
   "source": [
    "# import packages\n",
    "\n",
    "import numpy as np\n",
    "import pandas as pd\n",
    "import matplotlib.pyplot as plt\n",
    "import seaborn as sns"
   ]
  },
  {
   "cell_type": "code",
   "execution_count": 28,
   "id": "c649d308",
   "metadata": {},
   "outputs": [],
   "source": [
    "df = pd.read_csv(\"../data/all_event_data.csv\")\n",
    "\n",
    "#df = pd.read_csv(\"../data/eventbrite.csv\")"
   ]
  },
  {
   "cell_type": "code",
   "execution_count": 29,
   "id": "16892633",
   "metadata": {
    "scrolled": true
   },
   "outputs": [
    {
     "data": {
      "text/html": [
       "<div>\n",
       "<style scoped>\n",
       "    .dataframe tbody tr th:only-of-type {\n",
       "        vertical-align: middle;\n",
       "    }\n",
       "\n",
       "    .dataframe tbody tr th {\n",
       "        vertical-align: top;\n",
       "    }\n",
       "\n",
       "    .dataframe thead th {\n",
       "        text-align: right;\n",
       "    }\n",
       "</style>\n",
       "<table border=\"1\" class=\"dataframe\">\n",
       "  <thead>\n",
       "    <tr style=\"text-align: right;\">\n",
       "      <th></th>\n",
       "      <th>event</th>\n",
       "      <th>event_date</th>\n",
       "      <th>year</th>\n",
       "      <th>org_id</th>\n",
       "      <th>name</th>\n",
       "      <th>email</th>\n",
       "      <th>affiliation</th>\n",
       "      <th>car1</th>\n",
       "      <th>car2</th>\n",
       "      <th>eSc_collab</th>\n",
       "      <th>...</th>\n",
       "      <th>event_type</th>\n",
       "      <th>event_level</th>\n",
       "      <th>event_focus</th>\n",
       "      <th>ticket_type</th>\n",
       "      <th>order_id</th>\n",
       "      <th>id</th>\n",
       "      <th>event_id</th>\n",
       "      <th>venue_id</th>\n",
       "      <th>uri</th>\n",
       "      <th>affiliation_type</th>\n",
       "    </tr>\n",
       "  </thead>\n",
       "  <tbody>\n",
       "    <tr>\n",
       "      <th>0</th>\n",
       "      <td>4th National eScience Symposium - Science in a...</td>\n",
       "      <td>2016-10-13T09:30:00Z</td>\n",
       "      <td>2016</td>\n",
       "      <td>NLeSc</td>\n",
       "      <td>Marco de Vos</td>\n",
       "      <td>devos@astron.nl</td>\n",
       "      <td>ASTRON</td>\n",
       "      <td>NaN</td>\n",
       "      <td>NaN</td>\n",
       "      <td>False</td>\n",
       "      <td>...</td>\n",
       "      <td>eScience Symposium</td>\n",
       "      <td>Other</td>\n",
       "      <td>Other</td>\n",
       "      <td>Regular</td>\n",
       "      <td>520207803</td>\n",
       "      <td>655709628</td>\n",
       "      <td>2.415813e+10</td>\n",
       "      <td>14338260.0</td>\n",
       "      <td>https://www.eventbriteapi.com/v3/events/241581...</td>\n",
       "      <td>Research Institute</td>\n",
       "    </tr>\n",
       "    <tr>\n",
       "      <th>1</th>\n",
       "      <td>4th National eScience Symposium - Science in a...</td>\n",
       "      <td>2016-10-13T09:30:00Z</td>\n",
       "      <td>2016</td>\n",
       "      <td>NLeSc</td>\n",
       "      <td>Gert Kruithof</td>\n",
       "      <td>kruithof@astron.nl</td>\n",
       "      <td>ASTRON</td>\n",
       "      <td>NaN</td>\n",
       "      <td>NaN</td>\n",
       "      <td>False</td>\n",
       "      <td>...</td>\n",
       "      <td>eScience Symposium</td>\n",
       "      <td>Other</td>\n",
       "      <td>Other</td>\n",
       "      <td>Early Bird</td>\n",
       "      <td>520781005</td>\n",
       "      <td>656441065</td>\n",
       "      <td>2.415813e+10</td>\n",
       "      <td>14338260.0</td>\n",
       "      <td>https://www.eventbriteapi.com/v3/events/241581...</td>\n",
       "      <td>Research Institute</td>\n",
       "    </tr>\n",
       "    <tr>\n",
       "      <th>2</th>\n",
       "      <td>4th National eScience Symposium - Science in a...</td>\n",
       "      <td>2016-10-13T09:30:00Z</td>\n",
       "      <td>2016</td>\n",
       "      <td>NLeSc</td>\n",
       "      <td>Emma Beauxis-Aussalet</td>\n",
       "      <td>emalb@cwi.nl</td>\n",
       "      <td>CENTRUM WISKUNDE &amp; INFORMATICA</td>\n",
       "      <td>NaN</td>\n",
       "      <td>NaN</td>\n",
       "      <td>False</td>\n",
       "      <td>...</td>\n",
       "      <td>eScience Symposium</td>\n",
       "      <td>Other</td>\n",
       "      <td>Other</td>\n",
       "      <td>Student</td>\n",
       "      <td>519898955</td>\n",
       "      <td>655325883</td>\n",
       "      <td>2.415813e+10</td>\n",
       "      <td>14338260.0</td>\n",
       "      <td>https://www.eventbriteapi.com/v3/events/241581...</td>\n",
       "      <td>Research Institute</td>\n",
       "    </tr>\n",
       "    <tr>\n",
       "      <th>3</th>\n",
       "      <td>4th National eScience Symposium - Science in a...</td>\n",
       "      <td>2016-10-13T09:30:00Z</td>\n",
       "      <td>2016</td>\n",
       "      <td>NLeSc</td>\n",
       "      <td>Vyacheslav Tykhonov</td>\n",
       "      <td>vyacheslav.tykhonov@dans.knaw.nl</td>\n",
       "      <td>DANS-KNAW</td>\n",
       "      <td>NaN</td>\n",
       "      <td>NaN</td>\n",
       "      <td>False</td>\n",
       "      <td>...</td>\n",
       "      <td>eScience Symposium</td>\n",
       "      <td>Other</td>\n",
       "      <td>Other</td>\n",
       "      <td>Early Bird</td>\n",
       "      <td>520212788</td>\n",
       "      <td>655715811</td>\n",
       "      <td>2.415813e+10</td>\n",
       "      <td>14338260.0</td>\n",
       "      <td>https://www.eventbriteapi.com/v3/events/241581...</td>\n",
       "      <td>Research Institute</td>\n",
       "    </tr>\n",
       "    <tr>\n",
       "      <th>4</th>\n",
       "      <td>4th National eScience Symposium - Science in a...</td>\n",
       "      <td>2016-10-13T09:30:00Z</td>\n",
       "      <td>2016</td>\n",
       "      <td>NLeSc</td>\n",
       "      <td>Mateusz Kuzak</td>\n",
       "      <td>m.kuzak@esciencecenter.nl</td>\n",
       "      <td>ESCIENCE CENTER</td>\n",
       "      <td>NaN</td>\n",
       "      <td>NaN</td>\n",
       "      <td>False</td>\n",
       "      <td>...</td>\n",
       "      <td>eScience Symposium</td>\n",
       "      <td>Other</td>\n",
       "      <td>Other</td>\n",
       "      <td>Regular</td>\n",
       "      <td>519906213</td>\n",
       "      <td>655334607</td>\n",
       "      <td>2.415813e+10</td>\n",
       "      <td>14338260.0</td>\n",
       "      <td>https://www.eventbriteapi.com/v3/events/241581...</td>\n",
       "      <td>eScience Center</td>\n",
       "    </tr>\n",
       "  </tbody>\n",
       "</table>\n",
       "<p>5 rows × 30 columns</p>\n",
       "</div>"
      ],
      "text/plain": [
       "                                               event            event_date  \\\n",
       "0  4th National eScience Symposium - Science in a...  2016-10-13T09:30:00Z   \n",
       "1  4th National eScience Symposium - Science in a...  2016-10-13T09:30:00Z   \n",
       "2  4th National eScience Symposium - Science in a...  2016-10-13T09:30:00Z   \n",
       "3  4th National eScience Symposium - Science in a...  2016-10-13T09:30:00Z   \n",
       "4  4th National eScience Symposium - Science in a...  2016-10-13T09:30:00Z   \n",
       "\n",
       "   year org_id                   name                             email  \\\n",
       "0  2016  NLeSc           Marco de Vos                   devos@astron.nl   \n",
       "1  2016  NLeSc          Gert Kruithof                kruithof@astron.nl   \n",
       "2  2016  NLeSc  Emma Beauxis-Aussalet                      emalb@cwi.nl   \n",
       "3  2016  NLeSc    Vyacheslav Tykhonov  vyacheslav.tykhonov@dans.knaw.nl   \n",
       "4  2016  NLeSc          Mateusz Kuzak         m.kuzak@esciencecenter.nl   \n",
       "\n",
       "                      affiliation car1 car2  eSc_collab  ...  \\\n",
       "0                          ASTRON  NaN  NaN       False  ...   \n",
       "1                          ASTRON  NaN  NaN       False  ...   \n",
       "2  CENTRUM WISKUNDE & INFORMATICA  NaN  NaN       False  ...   \n",
       "3                       DANS-KNAW  NaN  NaN       False  ...   \n",
       "4                 ESCIENCE CENTER  NaN  NaN       False  ...   \n",
       "\n",
       "           event_type event_level event_focus ticket_type   order_id  \\\n",
       "0  eScience Symposium       Other       Other     Regular  520207803   \n",
       "1  eScience Symposium       Other       Other  Early Bird  520781005   \n",
       "2  eScience Symposium       Other       Other     Student  519898955   \n",
       "3  eScience Symposium       Other       Other  Early Bird  520212788   \n",
       "4  eScience Symposium       Other       Other     Regular  519906213   \n",
       "\n",
       "          id      event_id    venue_id  \\\n",
       "0  655709628  2.415813e+10  14338260.0   \n",
       "1  656441065  2.415813e+10  14338260.0   \n",
       "2  655325883  2.415813e+10  14338260.0   \n",
       "3  655715811  2.415813e+10  14338260.0   \n",
       "4  655334607  2.415813e+10  14338260.0   \n",
       "\n",
       "                                                 uri    affiliation_type  \n",
       "0  https://www.eventbriteapi.com/v3/events/241581...  Research Institute  \n",
       "1  https://www.eventbriteapi.com/v3/events/241581...  Research Institute  \n",
       "2  https://www.eventbriteapi.com/v3/events/241581...  Research Institute  \n",
       "3  https://www.eventbriteapi.com/v3/events/241581...  Research Institute  \n",
       "4  https://www.eventbriteapi.com/v3/events/241581...     eScience Center  \n",
       "\n",
       "[5 rows x 30 columns]"
      ]
     },
     "execution_count": 29,
     "metadata": {},
     "output_type": "execute_result"
    }
   ],
   "source": [
    "df.head()"
   ]
  },
  {
   "cell_type": "code",
   "execution_count": 50,
   "id": "cc654911",
   "metadata": {},
   "outputs": [],
   "source": [
    "# In the new data file many of the workshops have 'NA' at event_id. This should be 'NLeSc'\n",
    "df[\"org_id\"].fillna(\"NLeSc\", inplace = True)"
   ]
  },
  {
   "cell_type": "code",
   "execution_count": 51,
   "id": "96be3ead",
   "metadata": {
    "scrolled": true
   },
   "outputs": [
    {
     "data": {
      "text/plain": [
       "NLeSc                      1216\n",
       "NL-RSE                      167\n",
       "ePlan                        43\n",
       "NLeSc+LeidenHistoryInst      23\n",
       "LCRDM                         6\n",
       "Name: org_id, dtype: int64"
      ]
     },
     "execution_count": 51,
     "metadata": {},
     "output_type": "execute_result"
    }
   ],
   "source": [
    "df[\"org_id\"].value_counts()"
   ]
  },
  {
   "cell_type": "code",
   "execution_count": 52,
   "id": "ce366ce1",
   "metadata": {
    "scrolled": true
   },
   "outputs": [
    {
     "name": "stdout",
     "output_type": "stream",
     "text": [
      "<class 'pandas.core.frame.DataFrame'>\n",
      "RangeIndex: 1455 entries, 0 to 1454\n",
      "Data columns (total 30 columns):\n",
      " #   Column            Non-Null Count  Dtype  \n",
      "---  ------            --------------  -----  \n",
      " 0   event             1455 non-null   object \n",
      " 1   event_date        1455 non-null   object \n",
      " 2   year              1455 non-null   int64  \n",
      " 3   org_id            1455 non-null   object \n",
      " 4   name              1455 non-null   object \n",
      " 5   email             1455 non-null   object \n",
      " 6   affiliation       1091 non-null   object \n",
      " 7   car1              573 non-null    object \n",
      " 8   car2              58 non-null     object \n",
      " 9   eSc_collab        1455 non-null   bool   \n",
      " 10  ERCdis            741 non-null    object \n",
      " 11  NLeScdis          741 non-null    object \n",
      " 12  dis1              753 non-null    object \n",
      " 13  dis2              344 non-null    object \n",
      " 14  dis3              160 non-null    object \n",
      " 15  dis4              69 non-null     object \n",
      " 16  dis5              29 non-null     object \n",
      " 17  aff_country       1071 non-null   object \n",
      " 18  RI_type           124 non-null    object \n",
      " 19  created           1455 non-null   object \n",
      " 20  event_type        1455 non-null   object \n",
      " 21  event_level       1188 non-null   object \n",
      " 22  event_focus       1188 non-null   object \n",
      " 23  ticket_type       1455 non-null   object \n",
      " 24  order_id          1188 non-null   object \n",
      " 25  id                1455 non-null   object \n",
      " 26  event_id          1086 non-null   float64\n",
      " 27  venue_id          375 non-null    float64\n",
      " 28  uri               1455 non-null   object \n",
      " 29  affiliation_type  1071 non-null   object \n",
      "dtypes: bool(1), float64(2), int64(1), object(26)\n",
      "memory usage: 331.2+ KB\n"
     ]
    }
   ],
   "source": [
    "df.info()"
   ]
  },
  {
   "cell_type": "markdown",
   "id": "7ae1f25e",
   "metadata": {},
   "source": [
    "## Bar charts"
   ]
  },
  {
   "cell_type": "markdown",
   "id": "4bd5e545",
   "metadata": {},
   "source": [
    "#### Bar chart function"
   ]
  },
  {
   "cell_type": "code",
   "execution_count": 102,
   "id": "720f6ffe",
   "metadata": {},
   "outputs": [],
   "source": [
    "# Define function for bar plot\n",
    "\n",
    "def barplot(df, x_column, y_column):\n",
    "    sns.set()\n",
    "    sns.set_style('white')\n",
    "    f, ax = plt.subplots(figsize=(8,6))\n",
    "    sns.barplot(x=x_column, y=y_column, data=df, color='deepskyblue')\n",
    "    ax.tick_params(axis='both', which='major', labelsize=14)\n",
    "    plt.xlabel(x_column, fontsize=16)\n",
    "    plt.ylabel(y_column, fontsize=16)\n",
    "    plt.suptitle(y_column + ' by ' + x_column, fontsize=18)\n",
    "    sns.despine()\n",
    "    \n",
    "    return plt.show()"
   ]
  },
  {
   "cell_type": "markdown",
   "id": "923d9124",
   "metadata": {},
   "source": [
    "#### Horizontal bar chart function"
   ]
  },
  {
   "cell_type": "code",
   "execution_count": 54,
   "id": "8c251215",
   "metadata": {},
   "outputs": [],
   "source": [
    "# Define function for horizontal bar plot\n",
    "\n",
    "def barplot_horiz(df, x_column, y_column):\n",
    "    sns.set()\n",
    "    sns.set_style('white')\n",
    "    f, ax = plt.subplots(figsize=(8,6))\n",
    "    sns.barplot(x=x_column, y=y_column, data=df, color='deepskyblue')\n",
    "    ax.tick_params(axis='both', which='major', labelsize=14)\n",
    "    plt.xlabel(x_column, fontsize=16)\n",
    "    plt.ylabel(\"\", fontsize=16)\n",
    "    plt.suptitle(x_column + ' by ' + y_column, fontsize=18)\n",
    "    sns.despine()\n",
    "    \n",
    "    return plt.show()\n"
   ]
  },
  {
   "cell_type": "markdown",
   "id": "e338285c",
   "metadata": {},
   "source": [
    "#### Total number of events"
   ]
  },
  {
   "cell_type": "code",
   "execution_count": 128,
   "id": "b220711b",
   "metadata": {},
   "outputs": [],
   "source": [
    "events_total = pd.read_csv(\"../data/events_totals.csv\", sep = ';')"
   ]
  },
  {
   "cell_type": "code",
   "execution_count": 129,
   "id": "f4917777",
   "metadata": {},
   "outputs": [
    {
     "data": {
      "text/html": [
       "<div>\n",
       "<style scoped>\n",
       "    .dataframe tbody tr th:only-of-type {\n",
       "        vertical-align: middle;\n",
       "    }\n",
       "\n",
       "    .dataframe tbody tr th {\n",
       "        vertical-align: top;\n",
       "    }\n",
       "\n",
       "    .dataframe thead th {\n",
       "        text-align: right;\n",
       "    }\n",
       "</style>\n",
       "<table border=\"1\" class=\"dataframe\">\n",
       "  <thead>\n",
       "    <tr style=\"text-align: right;\">\n",
       "      <th></th>\n",
       "      <th>year</th>\n",
       "      <th>digital skills</th>\n",
       "      <th>NL-RSE</th>\n",
       "    </tr>\n",
       "  </thead>\n",
       "  <tbody>\n",
       "    <tr>\n",
       "      <th>0</th>\n",
       "      <td>2017</td>\n",
       "      <td>6</td>\n",
       "      <td>NaN</td>\n",
       "    </tr>\n",
       "    <tr>\n",
       "      <th>1</th>\n",
       "      <td>2018</td>\n",
       "      <td>4</td>\n",
       "      <td>NaN</td>\n",
       "    </tr>\n",
       "    <tr>\n",
       "      <th>2</th>\n",
       "      <td>2019</td>\n",
       "      <td>2</td>\n",
       "      <td>NaN</td>\n",
       "    </tr>\n",
       "    <tr>\n",
       "      <th>3</th>\n",
       "      <td>2020</td>\n",
       "      <td>7</td>\n",
       "      <td>2.0</td>\n",
       "    </tr>\n",
       "    <tr>\n",
       "      <th>4</th>\n",
       "      <td>2021</td>\n",
       "      <td>12</td>\n",
       "      <td>4.0</td>\n",
       "    </tr>\n",
       "  </tbody>\n",
       "</table>\n",
       "</div>"
      ],
      "text/plain": [
       "   year  digital skills  NL-RSE\n",
       "0  2017               6     NaN\n",
       "1  2018               4     NaN\n",
       "2  2019               2     NaN\n",
       "3  2020               7     2.0\n",
       "4  2021              12     4.0"
      ]
     },
     "execution_count": 129,
     "metadata": {},
     "output_type": "execute_result"
    }
   ],
   "source": [
    "events_total.head(7)"
   ]
  },
  {
   "cell_type": "code",
   "execution_count": 130,
   "id": "3811e896",
   "metadata": {
    "scrolled": true
   },
   "outputs": [
    {
     "data": {
      "image/png": "[encoded data removed]",
      "text/plain": [
       "<Figure size 576x432 with 1 Axes>"
      ]
     },
     "metadata": {},
     "output_type": "display_data"
    }
   ],
   "source": [
    "# Plot digital skills and NL-RSE events separately\n",
    "# digital skills: \n",
    "\n",
    "sns.set()\n",
    "sns.set_style('white')\n",
    "f, ax = plt.subplots(figsize=(8,6))\n",
    "sns.barplot(x='year', y='digital skills', data=events_total, color='deepskyblue')\n",
    "ax.tick_params(axis='both', which='major', labelsize=14)\n",
    "plt.xlabel('Year', fontsize=16)\n",
    "plt.ylabel('Number of events', fontsize=16)\n",
    "plt.suptitle('Digital skills: events by year', fontsize=18)\n",
    "sns.despine()\n",
    "    \n",
    "plt.savefig('../figures/digital_skills_events_by_year', dpi=300)"
   ]
  },
  {
   "cell_type": "code",
   "execution_count": 131,
   "id": "daffdbaf",
   "metadata": {},
   "outputs": [
    {
     "data": {
      "image/png": "[encoded data removed]",
      "text/plain": [
       "<Figure size 576x432 with 1 Axes>"
      ]
     },
     "metadata": {},
     "output_type": "display_data"
    }
   ],
   "source": [
    "# NL-RSE:\n",
    "\n",
    "sns.set()\n",
    "sns.set_style('white')\n",
    "f, ax = plt.subplots(figsize=(8,6))\n",
    "sns.barplot(x='year', y='NL-RSE', data=events_total, color='deepskyblue')\n",
    "ax.tick_params(axis='both', which='major', labelsize=14)\n",
    "plt.xlabel('Year', fontsize=16)\n",
    "plt.ylabel('Number of events', fontsize=16)\n",
    "plt.suptitle('NL-RSE: events by year', fontsize=18)\n",
    "sns.despine()\n",
    "    \n",
    "plt.savefig('../figures/digital_skills_events_by_year', dpi=300)"
   ]
  },
  {
   "cell_type": "markdown",
   "id": "57094e89",
   "metadata": {},
   "source": [
    "#### Participants by year"
   ]
  },
  {
   "cell_type": "code",
   "execution_count": 55,
   "id": "22b048cf",
   "metadata": {},
   "outputs": [
    {
     "data": {
      "text/plain": [
       "TU DELFT                         103\n",
       "UVA                               93\n",
       "UTRECHT UNIVERSITY                77\n",
       "VU AMSTERDAM                      60\n",
       "WAGENINGEN UNIVERSITY             48\n",
       "                                ... \n",
       "HOGESCHOOL ARNHEM EN NIJMEGEN      1\n",
       "UNIVERSITY OF CAPE TOWN            1\n",
       "UNIVERSITY OF MICHIGAN             1\n",
       "ZOOLOGICAL SOCIETY OF LONDON       1\n",
       "UNIVERSITY OF VIENNA               1\n",
       "Name: affiliation, Length: 85, dtype: int64"
      ]
     },
     "execution_count": 55,
     "metadata": {},
     "output_type": "execute_result"
    }
   ],
   "source": [
    "# filter out escience employees\n",
    "df_external = df[df['affiliation'] != 'ESCIENCE CENTER']\n",
    "df_external['affiliation'].value_counts()"
   ]
  },
  {
   "cell_type": "code",
   "execution_count": 56,
   "id": "b1c3d2d5",
   "metadata": {
    "scrolled": false
   },
   "outputs": [
    {
     "data": {
      "text/html": [
       "<div>\n",
       "<style scoped>\n",
       "    .dataframe tbody tr th:only-of-type {\n",
       "        vertical-align: middle;\n",
       "    }\n",
       "\n",
       "    .dataframe tbody tr th {\n",
       "        vertical-align: top;\n",
       "    }\n",
       "\n",
       "    .dataframe thead th {\n",
       "        text-align: right;\n",
       "    }\n",
       "</style>\n",
       "<table border=\"1\" class=\"dataframe\">\n",
       "  <thead>\n",
       "    <tr style=\"text-align: right;\">\n",
       "      <th></th>\n",
       "      <th>year</th>\n",
       "      <th>participants</th>\n",
       "    </tr>\n",
       "  </thead>\n",
       "  <tbody>\n",
       "    <tr>\n",
       "      <th>0</th>\n",
       "      <td>2016</td>\n",
       "      <td>29</td>\n",
       "    </tr>\n",
       "    <tr>\n",
       "      <th>1</th>\n",
       "      <td>2017</td>\n",
       "      <td>160</td>\n",
       "    </tr>\n",
       "    <tr>\n",
       "      <th>2</th>\n",
       "      <td>2018</td>\n",
       "      <td>67</td>\n",
       "    </tr>\n",
       "    <tr>\n",
       "      <th>3</th>\n",
       "      <td>2019</td>\n",
       "      <td>50</td>\n",
       "    </tr>\n",
       "    <tr>\n",
       "      <th>4</th>\n",
       "      <td>2020</td>\n",
       "      <td>239</td>\n",
       "    </tr>\n",
       "    <tr>\n",
       "      <th>5</th>\n",
       "      <td>2021</td>\n",
       "      <td>541</td>\n",
       "    </tr>\n",
       "  </tbody>\n",
       "</table>\n",
       "</div>"
      ],
      "text/plain": [
       "   year  participants\n",
       "0  2016            29\n",
       "1  2017           160\n",
       "2  2018            67\n",
       "3  2019            50\n",
       "4  2020           239\n",
       "5  2021           541"
      ]
     },
     "execution_count": 56,
     "metadata": {},
     "output_type": "execute_result"
    }
   ],
   "source": [
    "# Create df with participants by year\n",
    "\n",
    "df_participants_by_year = df_external.groupby('year').agg({'order_id': 'count'}).reset_index()\n",
    "df_participants_by_year.rename(columns = {'order_id': 'participants'}, inplace = True)\n",
    "df_participants_by_year.head(7)"
   ]
  },
  {
   "cell_type": "code",
   "execution_count": 58,
   "id": "2fa1ed46",
   "metadata": {
    "scrolled": false
   },
   "outputs": [
    {
     "data": {
      "image/png": "[encoded data removed]",
      "text/plain": [
       "<Figure size 576x432 with 1 Axes>"
      ]
     },
     "metadata": {},
     "output_type": "display_data"
    }
   ],
   "source": [
    "# plot participants by year\n",
    "barplot(df_participants_by_year, 'year', 'participants')"
   ]
  },
  {
   "cell_type": "code",
   "execution_count": 94,
   "id": "d5433ba8",
   "metadata": {},
   "outputs": [
    {
     "data": {
      "image/png": "[encoded data removed]",
      "text/plain": [
       "<Figure size 576x432 with 1 Axes>"
      ]
     },
     "metadata": {},
     "output_type": "display_data"
    }
   ],
   "source": [
    "# save figure total participants by year\n",
    "\n",
    "sns.set()\n",
    "sns.set_style('white')\n",
    "f, ax = plt.subplots(figsize=(8,6))\n",
    "sns.barplot(x='year', y='participants', data=df_participants_by_year, color='deepskyblue')\n",
    "ax.tick_params(axis='both', which='major', labelsize=14)\n",
    "plt.xlabel('Year', fontsize=16)\n",
    "plt.ylabel('Participants', fontsize=16)\n",
    "plt.suptitle('Participants by year', fontsize=18)\n",
    "sns.despine()\n",
    "    \n",
    "plt.savefig('../figures/total_participants_by_year', dpi=300)"
   ]
  },
  {
   "cell_type": "markdown",
   "id": "4ef1a330",
   "metadata": {},
   "source": [
    "#### Digital skills: participants by year "
   ]
  },
  {
   "cell_type": "code",
   "execution_count": 60,
   "id": "4595cb98",
   "metadata": {},
   "outputs": [
    {
     "data": {
      "text/plain": [
       "NLeSc    776\n",
       "ePlan     35\n",
       "Name: org_id, dtype: int64"
      ]
     },
     "execution_count": 60,
     "metadata": {},
     "output_type": "execute_result"
    }
   ],
   "source": [
    "# select digital skills events only\n",
    "\n",
    "# only escience events\n",
    "df_escience = df_external[(df_external['org_id'] == 'NLeSc') | (df_external['org_id'] == 'ePlan')]\n",
    "\n",
    "# filter out the escience symposia\n",
    "df_digitalskills = df_escience[df_escience['event'].str.contains('Symposium') == False]\n",
    "\n",
    "# filter out the workshop on software management plans\n",
    "df_digitalskills = df_digitalskills[df_digitalskills['event'].str.contains('Software Management Plans') == False]\n",
    "\n",
    "df_digitalskills['org_id'].value_counts()"
   ]
  },
  {
   "cell_type": "code",
   "execution_count": 61,
   "id": "5bd60c44",
   "metadata": {
    "scrolled": true
   },
   "outputs": [
    {
     "data": {
      "text/html": [
       "<div>\n",
       "<style scoped>\n",
       "    .dataframe tbody tr th:only-of-type {\n",
       "        vertical-align: middle;\n",
       "    }\n",
       "\n",
       "    .dataframe tbody tr th {\n",
       "        vertical-align: top;\n",
       "    }\n",
       "\n",
       "    .dataframe thead th {\n",
       "        text-align: right;\n",
       "    }\n",
       "</style>\n",
       "<table border=\"1\" class=\"dataframe\">\n",
       "  <thead>\n",
       "    <tr style=\"text-align: right;\">\n",
       "      <th></th>\n",
       "      <th>year</th>\n",
       "      <th>participants</th>\n",
       "    </tr>\n",
       "  </thead>\n",
       "  <tbody>\n",
       "    <tr>\n",
       "      <th>0</th>\n",
       "      <td>2017</td>\n",
       "      <td>104</td>\n",
       "    </tr>\n",
       "    <tr>\n",
       "      <th>1</th>\n",
       "      <td>2018</td>\n",
       "      <td>67</td>\n",
       "    </tr>\n",
       "    <tr>\n",
       "      <th>2</th>\n",
       "      <td>2019</td>\n",
       "      <td>44</td>\n",
       "    </tr>\n",
       "    <tr>\n",
       "      <th>3</th>\n",
       "      <td>2020</td>\n",
       "      <td>182</td>\n",
       "    </tr>\n",
       "    <tr>\n",
       "      <th>4</th>\n",
       "      <td>2021</td>\n",
       "      <td>414</td>\n",
       "    </tr>\n",
       "  </tbody>\n",
       "</table>\n",
       "</div>"
      ],
      "text/plain": [
       "   year  participants\n",
       "0  2017           104\n",
       "1  2018            67\n",
       "2  2019            44\n",
       "3  2020           182\n",
       "4  2021           414"
      ]
     },
     "execution_count": 61,
     "metadata": {},
     "output_type": "execute_result"
    }
   ],
   "source": [
    "# Create df with digital skills participants by year\n",
    "\n",
    "df_digitalskills_participants_by_year = df_digitalskills.groupby('year').agg({'org_id': 'count'}).reset_index()\n",
    "df_digitalskills_participants_by_year.rename(columns = {'org_id': 'participants'}, inplace = True)\n",
    "df_digitalskills_participants_by_year.head()\n"
   ]
  },
  {
   "cell_type": "code",
   "execution_count": 92,
   "id": "63738f35",
   "metadata": {
    "scrolled": false
   },
   "outputs": [
    {
     "data": {
      "image/png": "[encoded data removed]",
      "text/plain": [
       "<Figure size 576x432 with 1 Axes>"
      ]
     },
     "metadata": {},
     "output_type": "display_data"
    }
   ],
   "source": [
    "# plot participants by year for digital skills events\n",
    "\n",
    "barplot(df_digitalskills_participants_by_year, 'year', 'participants')\n"
   ]
  },
  {
   "cell_type": "code",
   "execution_count": 95,
   "id": "db88b110",
   "metadata": {},
   "outputs": [
    {
     "data": {
      "image/png": "[encoded data removed]",
      "text/plain": [
       "<Figure size 576x432 with 1 Axes>"
      ]
     },
     "metadata": {},
     "output_type": "display_data"
    }
   ],
   "source": [
    "# Save figure\n",
    "\n",
    "sns.set()\n",
    "sns.set_style('white')\n",
    "f, ax = plt.subplots(figsize=(8,6))\n",
    "sns.barplot(x='year', y='participants', data=df_participants_by_year, color='deepskyblue')\n",
    "ax.tick_params(axis='both', which='major', labelsize=14)\n",
    "plt.xlabel('Year', fontsize=16)\n",
    "plt.ylabel('Participants', fontsize=16)\n",
    "plt.suptitle('Digital skills: participants by year', fontsize=18)\n",
    "sns.despine()\n",
    "    \n",
    "plt.savefig('../figures/participants_by_year_digital_skills', dpi=300)"
   ]
  },
  {
   "cell_type": "markdown",
   "id": "4f9b42fe",
   "metadata": {},
   "source": [
    "#### NL-RSE: participants by year "
   ]
  },
  {
   "cell_type": "code",
   "execution_count": 63,
   "id": "07a1f0c9",
   "metadata": {},
   "outputs": [
    {
     "data": {
      "text/plain": [
       "NL-RSE    140\n",
       "Name: org_id, dtype: int64"
      ]
     },
     "execution_count": 63,
     "metadata": {},
     "output_type": "execute_result"
    }
   ],
   "source": [
    "# only NL-RSE events\n",
    "df_nlrse = df_external[df_external['org_id'] == 'NL-RSE']\n",
    "df_nlrse['org_id'].value_counts()"
   ]
  },
  {
   "cell_type": "code",
   "execution_count": 64,
   "id": "9543ead8",
   "metadata": {
    "scrolled": true
   },
   "outputs": [
    {
     "data": {
      "text/html": [
       "<div>\n",
       "<style scoped>\n",
       "    .dataframe tbody tr th:only-of-type {\n",
       "        vertical-align: middle;\n",
       "    }\n",
       "\n",
       "    .dataframe tbody tr th {\n",
       "        vertical-align: top;\n",
       "    }\n",
       "\n",
       "    .dataframe thead th {\n",
       "        text-align: right;\n",
       "    }\n",
       "</style>\n",
       "<table border=\"1\" class=\"dataframe\">\n",
       "  <thead>\n",
       "    <tr style=\"text-align: right;\">\n",
       "      <th></th>\n",
       "      <th>year</th>\n",
       "      <th>participants</th>\n",
       "    </tr>\n",
       "  </thead>\n",
       "  <tbody>\n",
       "    <tr>\n",
       "      <th>0</th>\n",
       "      <td>2020</td>\n",
       "      <td>57</td>\n",
       "    </tr>\n",
       "    <tr>\n",
       "      <th>1</th>\n",
       "      <td>2021</td>\n",
       "      <td>83</td>\n",
       "    </tr>\n",
       "  </tbody>\n",
       "</table>\n",
       "</div>"
      ],
      "text/plain": [
       "   year  participants\n",
       "0  2020            57\n",
       "1  2021            83"
      ]
     },
     "execution_count": 64,
     "metadata": {},
     "output_type": "execute_result"
    }
   ],
   "source": [
    "# Create df with NL-RSE participants by year\n",
    "df_nlrse_participants_by_year = df_nlrse.groupby('year').agg({'order_id': 'count'}).reset_index()\n",
    "df_nlrse_participants_by_year.rename(columns = {'order_id': 'participants'}, inplace = True)\n",
    "df_nlrse_participants_by_year.head()"
   ]
  },
  {
   "cell_type": "code",
   "execution_count": 65,
   "id": "07fa558c",
   "metadata": {},
   "outputs": [
    {
     "data": {
      "image/png": "[encoded data removed]",
      "text/plain": [
       "<Figure size 576x432 with 1 Axes>"
      ]
     },
     "metadata": {},
     "output_type": "display_data"
    }
   ],
   "source": [
    "# plot participants by year for NL-RSE events\n",
    "\n",
    "barplot(df_nlrse_participants_by_year, 'year', 'participants')"
   ]
  },
  {
   "cell_type": "code",
   "execution_count": 132,
   "id": "96ee98c7",
   "metadata": {
    "scrolled": false
   },
   "outputs": [
    {
     "data": {
      "image/png": "[encoded data removed]",
      "text/plain": [
       "<Figure size 576x432 with 1 Axes>"
      ]
     },
     "metadata": {},
     "output_type": "display_data"
    }
   ],
   "source": [
    "# adjust column width\n",
    "\n",
    "sns.set()\n",
    "sns.set_style('white')\n",
    "f, ax = plt.subplots(figsize=(8,6))\n",
    "sns.barplot(x='year', y='participants', data=df_nlrse_participants_by_year, color='indigo')\n",
    "ax.tick_params(axis='both', which='major', labelsize=14)\n",
    "plt.xlabel('year', fontsize=16)\n",
    "plt.ylabel('participants', fontsize=16)\n",
    "plt.suptitle('NL-RSE: Participants by year', fontsize=18)\n",
    "sns.despine()\n",
    "\n",
    "def change_width(ax, new_value) :\n",
    "    for patch in ax.patches :\n",
    "        current_width = patch.get_width()\n",
    "        diff = current_width - new_value\n",
    "\n",
    "        # change the bar width\n",
    "        patch.set_width(new_value)\n",
    "\n",
    "        # recenter the bar\n",
    "        patch.set_x(patch.get_x() + diff * .5)\n",
    "\n",
    "change_width(ax, .40)\n",
    "\n",
    "plt.savefig('../figures/barchart_NLRSE_year.png', dpi=300)"
   ]
  },
  {
   "cell_type": "markdown",
   "id": "1f07a46d",
   "metadata": {},
   "source": [
    "#### Participants by affiliation type"
   ]
  },
  {
   "cell_type": "code",
   "execution_count": 67,
   "id": "eb8bf92e",
   "metadata": {
    "scrolled": false
   },
   "outputs": [
    {
     "data": {
      "text/html": [
       "<div>\n",
       "<style scoped>\n",
       "    .dataframe tbody tr th:only-of-type {\n",
       "        vertical-align: middle;\n",
       "    }\n",
       "\n",
       "    .dataframe tbody tr th {\n",
       "        vertical-align: top;\n",
       "    }\n",
       "\n",
       "    .dataframe thead th {\n",
       "        text-align: right;\n",
       "    }\n",
       "</style>\n",
       "<table border=\"1\" class=\"dataframe\">\n",
       "  <thead>\n",
       "    <tr style=\"text-align: right;\">\n",
       "      <th></th>\n",
       "      <th>affiliation type</th>\n",
       "      <th>participants</th>\n",
       "    </tr>\n",
       "  </thead>\n",
       "  <tbody>\n",
       "    <tr>\n",
       "      <th>0</th>\n",
       "      <td>University</td>\n",
       "      <td>622</td>\n",
       "    </tr>\n",
       "    <tr>\n",
       "      <th>1</th>\n",
       "      <td>eScience Center</td>\n",
       "      <td>152</td>\n",
       "    </tr>\n",
       "    <tr>\n",
       "      <th>2</th>\n",
       "      <td>Research Institute</td>\n",
       "      <td>124</td>\n",
       "    </tr>\n",
       "    <tr>\n",
       "      <th>3</th>\n",
       "      <td>University Medical Center</td>\n",
       "      <td>68</td>\n",
       "    </tr>\n",
       "    <tr>\n",
       "      <th>4</th>\n",
       "      <td>Consortium</td>\n",
       "      <td>45</td>\n",
       "    </tr>\n",
       "  </tbody>\n",
       "</table>\n",
       "</div>"
      ],
      "text/plain": [
       "            affiliation type  participants\n",
       "0                 University           622\n",
       "1            eScience Center           152\n",
       "2         Research Institute           124\n",
       "3  University Medical Center            68\n",
       "4                 Consortium            45"
      ]
     },
     "execution_count": 67,
     "metadata": {},
     "output_type": "execute_result"
    }
   ],
   "source": [
    "# Create df with participants by affiliation type\n",
    "\n",
    "df_participants_by_affl = pd.DataFrame(df['affiliation_type'].value_counts())\n",
    "df_participants_by_affl.reset_index (inplace = True)\n",
    "df_participants_by_affl.rename(columns = {'index': 'affiliation type', 'affiliation_type': 'participants'}, inplace = True)\n",
    "df_participants_by_affl.head()"
   ]
  },
  {
   "cell_type": "code",
   "execution_count": 68,
   "id": "48cdce19",
   "metadata": {},
   "outputs": [
    {
     "data": {
      "image/png": "[encoded data removed]",
      "text/plain": [
       "<Figure size 576x432 with 1 Axes>"
      ]
     },
     "metadata": {},
     "output_type": "display_data"
    }
   ],
   "source": [
    "# Create horizontal bar chart \n",
    "\n",
    "barplot_horiz(df_participants_by_affl, 'participants', 'affiliation type')"
   ]
  },
  {
   "cell_type": "code",
   "execution_count": 69,
   "id": "6fba520a",
   "metadata": {},
   "outputs": [
    {
     "data": {
      "text/html": [
       "<div>\n",
       "<style scoped>\n",
       "    .dataframe tbody tr th:only-of-type {\n",
       "        vertical-align: middle;\n",
       "    }\n",
       "\n",
       "    .dataframe tbody tr th {\n",
       "        vertical-align: top;\n",
       "    }\n",
       "\n",
       "    .dataframe thead th {\n",
       "        text-align: right;\n",
       "    }\n",
       "</style>\n",
       "<table border=\"1\" class=\"dataframe\">\n",
       "  <thead>\n",
       "    <tr style=\"text-align: right;\">\n",
       "      <th></th>\n",
       "      <th>affiliation type</th>\n",
       "      <th>participants</th>\n",
       "    </tr>\n",
       "  </thead>\n",
       "  <tbody>\n",
       "    <tr>\n",
       "      <th>0</th>\n",
       "      <td>University</td>\n",
       "      <td>622</td>\n",
       "    </tr>\n",
       "    <tr>\n",
       "      <th>1</th>\n",
       "      <td>Research Institute</td>\n",
       "      <td>124</td>\n",
       "    </tr>\n",
       "    <tr>\n",
       "      <th>2</th>\n",
       "      <td>University Medical Center</td>\n",
       "      <td>68</td>\n",
       "    </tr>\n",
       "    <tr>\n",
       "      <th>3</th>\n",
       "      <td>Consortium</td>\n",
       "      <td>45</td>\n",
       "    </tr>\n",
       "    <tr>\n",
       "      <th>4</th>\n",
       "      <td>University of Applied Sciences / Hogeschool</td>\n",
       "      <td>15</td>\n",
       "    </tr>\n",
       "  </tbody>\n",
       "</table>\n",
       "</div>"
      ],
      "text/plain": [
       "                              affiliation type  participants\n",
       "0                                   University           622\n",
       "1                           Research Institute           124\n",
       "2                    University Medical Center            68\n",
       "3                                   Consortium            45\n",
       "4  University of Applied Sciences / Hogeschool            15"
      ]
     },
     "execution_count": 69,
     "metadata": {},
     "output_type": "execute_result"
    }
   ],
   "source": [
    "# Excluding participants from eScience Center\n",
    "# Create df with participants by affiliation type\n",
    "\n",
    "df_participants_by_affl = pd.DataFrame(df_external['affiliation_type'].value_counts())\n",
    "df_participants_by_affl.reset_index (inplace = True)\n",
    "df_participants_by_affl.rename(columns = {'index': 'affiliation type', 'affiliation_type': 'participants'}, inplace = True)\n",
    "df_participants_by_affl.head()"
   ]
  },
  {
   "cell_type": "code",
   "execution_count": 85,
   "id": "68dbc4ef",
   "metadata": {},
   "outputs": [
    {
     "data": {
      "image/png": "[encoded data removed]",
      "text/plain": [
       "<Figure size 576x432 with 1 Axes>"
      ]
     },
     "metadata": {},
     "output_type": "display_data"
    },
    {
     "data": {
      "text/plain": [
       "<Figure size 432x288 with 0 Axes>"
      ]
     },
     "metadata": {},
     "output_type": "display_data"
    }
   ],
   "source": [
    "# Create horizontal bar chart \n",
    "\n",
    "barplot_horiz(df_participants_by_affl, 'participants', 'affiliation type')\n",
    "\n",
    "plt.savefig('../figures/barchart_participants_by_affiliation_type.png', dpi=300)"
   ]
  },
  {
   "cell_type": "code",
   "execution_count": 99,
   "id": "94312259",
   "metadata": {},
   "outputs": [
    {
     "data": {
      "image/png": "[encoded data removed]",
      "text/plain": [
       "<Figure size 576x432 with 1 Axes>"
      ]
     },
     "metadata": {},
     "output_type": "display_data"
    }
   ],
   "source": [
    "# save figure\n",
    "\n",
    "sns.set()\n",
    "sns.set_style('white')\n",
    "f, ax = plt.subplots(figsize=(8,6))\n",
    "sns.barplot(x='participants', y='affiliation type', data= df_participants_by_affl, color='deepskyblue')\n",
    "ax.tick_params(axis='both', which='major', labelsize=14)\n",
    "plt.xlabel('Participants', fontsize=16)\n",
    "plt.ylabel(\"\", fontsize=16)\n",
    "plt.suptitle('Participants by affiliation type', fontsize=18)\n",
    "sns.despine()\n",
    "    \n",
    "plt.savefig('../figures/horiz_barchart_participants_by_affiliation_type.png', dpi=300, bbox_inches=\"tight\")\n"
   ]
  },
  {
   "cell_type": "markdown",
   "id": "be3f5da7",
   "metadata": {},
   "source": [
    "#### Participants by disciplinary section"
   ]
  },
  {
   "cell_type": "code",
   "execution_count": 71,
   "id": "02dadb52",
   "metadata": {},
   "outputs": [
    {
     "data": {
      "text/html": [
       "<div>\n",
       "<style scoped>\n",
       "    .dataframe tbody tr th:only-of-type {\n",
       "        vertical-align: middle;\n",
       "    }\n",
       "\n",
       "    .dataframe tbody tr th {\n",
       "        vertical-align: top;\n",
       "    }\n",
       "\n",
       "    .dataframe thead th {\n",
       "        text-align: right;\n",
       "    }\n",
       "</style>\n",
       "<table border=\"1\" class=\"dataframe\">\n",
       "  <thead>\n",
       "    <tr style=\"text-align: right;\">\n",
       "      <th></th>\n",
       "      <th>disciplinary section</th>\n",
       "      <th>participants</th>\n",
       "    </tr>\n",
       "  </thead>\n",
       "  <tbody>\n",
       "    <tr>\n",
       "      <th>0</th>\n",
       "      <td>Ph&amp;B</td>\n",
       "      <td>305</td>\n",
       "    </tr>\n",
       "    <tr>\n",
       "      <th>1</th>\n",
       "      <td>LS</td>\n",
       "      <td>217</td>\n",
       "    </tr>\n",
       "    <tr>\n",
       "      <th>2</th>\n",
       "      <td>SSH</td>\n",
       "      <td>130</td>\n",
       "    </tr>\n",
       "    <tr>\n",
       "      <th>3</th>\n",
       "      <td>SE</td>\n",
       "      <td>89</td>\n",
       "    </tr>\n",
       "  </tbody>\n",
       "</table>\n",
       "</div>"
      ],
      "text/plain": [
       "  disciplinary section  participants\n",
       "0                 Ph&B           305\n",
       "1                   LS           217\n",
       "2                  SSH           130\n",
       "3                   SE            89"
      ]
     },
     "execution_count": 71,
     "metadata": {},
     "output_type": "execute_result"
    }
   ],
   "source": [
    "# Create df with participants by disciplinary section\n",
    "# quite a lot of missing data but that's because of the eventbrite forms of some of the events\n",
    "\n",
    "df_participants_by_section = pd.DataFrame(df['NLeScdis'].value_counts())\n",
    "df_participants_by_section.reset_index (inplace = True)\n",
    "df_participants_by_section.rename(columns = {'index': 'disciplinary section', 'NLeScdis': 'participants'}, inplace = True)\n",
    "df_participants_by_section.head()"
   ]
  },
  {
   "cell_type": "code",
   "execution_count": 72,
   "id": "5fc5309c",
   "metadata": {},
   "outputs": [
    {
     "data": {
      "text/html": [
       "<div>\n",
       "<style scoped>\n",
       "    .dataframe tbody tr th:only-of-type {\n",
       "        vertical-align: middle;\n",
       "    }\n",
       "\n",
       "    .dataframe tbody tr th {\n",
       "        vertical-align: top;\n",
       "    }\n",
       "\n",
       "    .dataframe thead th {\n",
       "        text-align: right;\n",
       "    }\n",
       "</style>\n",
       "<table border=\"1\" class=\"dataframe\">\n",
       "  <thead>\n",
       "    <tr style=\"text-align: right;\">\n",
       "      <th></th>\n",
       "      <th>disciplinary section</th>\n",
       "      <th>participants</th>\n",
       "    </tr>\n",
       "  </thead>\n",
       "  <tbody>\n",
       "    <tr>\n",
       "      <th>0</th>\n",
       "      <td>NSE</td>\n",
       "      <td>305</td>\n",
       "    </tr>\n",
       "    <tr>\n",
       "      <th>1</th>\n",
       "      <td>LS</td>\n",
       "      <td>217</td>\n",
       "    </tr>\n",
       "    <tr>\n",
       "      <th>2</th>\n",
       "      <td>SSH</td>\n",
       "      <td>130</td>\n",
       "    </tr>\n",
       "    <tr>\n",
       "      <th>3</th>\n",
       "      <td>SE</td>\n",
       "      <td>89</td>\n",
       "    </tr>\n",
       "  </tbody>\n",
       "</table>\n",
       "</div>"
      ],
      "text/plain": [
       "  disciplinary section  participants\n",
       "0                  NSE           305\n",
       "1                   LS           217\n",
       "2                  SSH           130\n",
       "3                   SE            89"
      ]
     },
     "execution_count": 72,
     "metadata": {},
     "output_type": "execute_result"
    }
   ],
   "source": [
    "df_participants_by_section['disciplinary section'].replace(\"Ph&B\",\"NSE\", inplace = True)\n",
    "df_participants_by_section.head()"
   ]
  },
  {
   "cell_type": "code",
   "execution_count": 100,
   "id": "2f68d65e",
   "metadata": {
    "scrolled": false
   },
   "outputs": [
    {
     "data": {
      "image/png": "[encoded data removed]",
      "text/plain": [
       "<Figure size 576x432 with 1 Axes>"
      ]
     },
     "metadata": {},
     "output_type": "display_data"
    }
   ],
   "source": [
    "# create bar chart with adjusted column width\n",
    "\n",
    "# adjust column width\n",
    "\n",
    "sns.set()\n",
    "sns.set_style('white')\n",
    "f, ax = plt.subplots(figsize=(8,6))\n",
    "sns.barplot(x='disciplinary section', y='participants', data=df_participants_by_section, color='deepskyblue')\n",
    "\n",
    "#ax.set_xticklabels(df_participants_by_section['disciplinary section'], rotation=40, ha='right')\n",
    "ax.tick_params(axis='both', which='major', labelsize=14)\n",
    "plt.xlabel('disciplinary section', fontsize=16)\n",
    "plt.ylabel('participants', fontsize=16)\n",
    "plt.suptitle('participants by disciplinary section', fontsize=18)\n",
    "sns.despine()\n",
    "\n",
    "change_width(ax, .50)\n",
    "\n",
    "plt.savefig('../figures/barchart_participants_by_section.png', dpi=300)"
   ]
  },
  {
   "cell_type": "markdown",
   "id": "357cd844",
   "metadata": {},
   "source": [
    "### <span style='background:yellow'> Seems strange that Sust & Env is so low, classification issue? </span>"
   ]
  },
  {
   "cell_type": "markdown",
   "id": "395ef5c0",
   "metadata": {},
   "source": [
    "#### Participants by affiliation"
   ]
  },
  {
   "cell_type": "code",
   "execution_count": 75,
   "id": "27a6577b",
   "metadata": {},
   "outputs": [
    {
     "data": {
      "text/html": [
       "<div>\n",
       "<style scoped>\n",
       "    .dataframe tbody tr th:only-of-type {\n",
       "        vertical-align: middle;\n",
       "    }\n",
       "\n",
       "    .dataframe tbody tr th {\n",
       "        vertical-align: top;\n",
       "    }\n",
       "\n",
       "    .dataframe thead th {\n",
       "        text-align: right;\n",
       "    }\n",
       "</style>\n",
       "<table border=\"1\" class=\"dataframe\">\n",
       "  <thead>\n",
       "    <tr style=\"text-align: right;\">\n",
       "      <th></th>\n",
       "      <th>affiliation</th>\n",
       "      <th>participants</th>\n",
       "    </tr>\n",
       "  </thead>\n",
       "  <tbody>\n",
       "    <tr>\n",
       "      <th>0</th>\n",
       "      <td>ESCIENCE CENTER</td>\n",
       "      <td>152</td>\n",
       "    </tr>\n",
       "    <tr>\n",
       "      <th>1</th>\n",
       "      <td>TU DELFT</td>\n",
       "      <td>103</td>\n",
       "    </tr>\n",
       "    <tr>\n",
       "      <th>2</th>\n",
       "      <td>UVA</td>\n",
       "      <td>93</td>\n",
       "    </tr>\n",
       "    <tr>\n",
       "      <th>3</th>\n",
       "      <td>UTRECHT UNIVERSITY</td>\n",
       "      <td>77</td>\n",
       "    </tr>\n",
       "    <tr>\n",
       "      <th>4</th>\n",
       "      <td>VU AMSTERDAM</td>\n",
       "      <td>60</td>\n",
       "    </tr>\n",
       "    <tr>\n",
       "      <th>5</th>\n",
       "      <td>WAGENINGEN UNIVERSITY</td>\n",
       "      <td>48</td>\n",
       "    </tr>\n",
       "    <tr>\n",
       "      <th>6</th>\n",
       "      <td>LEIDEN UNIVERSITY</td>\n",
       "      <td>45</td>\n",
       "    </tr>\n",
       "    <tr>\n",
       "      <th>7</th>\n",
       "      <td>UNIVERSITY OF GRONINGEN</td>\n",
       "      <td>44</td>\n",
       "    </tr>\n",
       "    <tr>\n",
       "      <th>8</th>\n",
       "      <td>UNIVERSITY OF TWENTE</td>\n",
       "      <td>37</td>\n",
       "    </tr>\n",
       "    <tr>\n",
       "      <th>9</th>\n",
       "      <td>RADBOUD UNIVERSITY NIJMEGEN</td>\n",
       "      <td>33</td>\n",
       "    </tr>\n",
       "    <tr>\n",
       "      <th>10</th>\n",
       "      <td>TU/E</td>\n",
       "      <td>31</td>\n",
       "    </tr>\n",
       "    <tr>\n",
       "      <th>11</th>\n",
       "      <td>SURF SARA</td>\n",
       "      <td>28</td>\n",
       "    </tr>\n",
       "    <tr>\n",
       "      <th>12</th>\n",
       "      <td>MAASTRICHT UNIVERSITY</td>\n",
       "      <td>28</td>\n",
       "    </tr>\n",
       "    <tr>\n",
       "      <th>13</th>\n",
       "      <td>ERASMUS MC</td>\n",
       "      <td>27</td>\n",
       "    </tr>\n",
       "    <tr>\n",
       "      <th>14</th>\n",
       "      <td>ASTRON</td>\n",
       "      <td>23</td>\n",
       "    </tr>\n",
       "    <tr>\n",
       "      <th>15</th>\n",
       "      <td>UMC UTRECHT</td>\n",
       "      <td>19</td>\n",
       "    </tr>\n",
       "    <tr>\n",
       "      <th>16</th>\n",
       "      <td>NETHERLANDS INSTITUTE OF ECOLOGY (NIOO-KNAW)</td>\n",
       "      <td>14</td>\n",
       "    </tr>\n",
       "    <tr>\n",
       "      <th>17</th>\n",
       "      <td>DANS-KNAW</td>\n",
       "      <td>13</td>\n",
       "    </tr>\n",
       "    <tr>\n",
       "      <th>18</th>\n",
       "      <td>LEIDEN UNIVERSITY MEDICAL CENTER</td>\n",
       "      <td>12</td>\n",
       "    </tr>\n",
       "    <tr>\n",
       "      <th>19</th>\n",
       "      <td>NETHERLANDS INSTITUTE FOR NEUROSCIENCE</td>\n",
       "      <td>11</td>\n",
       "    </tr>\n",
       "  </tbody>\n",
       "</table>\n",
       "</div>"
      ],
      "text/plain": [
       "                                     affiliation  participants\n",
       "0                                ESCIENCE CENTER           152\n",
       "1                                       TU DELFT           103\n",
       "2                                            UVA            93\n",
       "3                             UTRECHT UNIVERSITY            77\n",
       "4                                   VU AMSTERDAM            60\n",
       "5                          WAGENINGEN UNIVERSITY            48\n",
       "6                              LEIDEN UNIVERSITY            45\n",
       "7                        UNIVERSITY OF GRONINGEN            44\n",
       "8                           UNIVERSITY OF TWENTE            37\n",
       "9                    RADBOUD UNIVERSITY NIJMEGEN            33\n",
       "10                                          TU/E            31\n",
       "11                                     SURF SARA            28\n",
       "12                         MAASTRICHT UNIVERSITY            28\n",
       "13                                    ERASMUS MC            27\n",
       "14                                        ASTRON            23\n",
       "15                                   UMC UTRECHT            19\n",
       "16  NETHERLANDS INSTITUTE OF ECOLOGY (NIOO-KNAW)            14\n",
       "17                                     DANS-KNAW            13\n",
       "18              LEIDEN UNIVERSITY MEDICAL CENTER            12\n",
       "19        NETHERLANDS INSTITUTE FOR NEUROSCIENCE            11"
      ]
     },
     "execution_count": 75,
     "metadata": {},
     "output_type": "execute_result"
    }
   ],
   "source": [
    "# Create df with participants by affiliation\n",
    "\n",
    "df_participants_by_affiliation = pd.DataFrame(df['affiliation'].value_counts())\n",
    "df_participants_by_affiliation.reset_index (inplace = True)\n",
    "df_participants_by_affiliation.rename(columns = {'index': 'affiliation', 'affiliation': 'participants'}, inplace = True)\n",
    "df_participants_by_affiliation.head(20)"
   ]
  },
  {
   "cell_type": "code",
   "execution_count": 79,
   "id": "c68e7233",
   "metadata": {},
   "outputs": [
    {
     "data": {
      "text/html": [
       "<div>\n",
       "<style scoped>\n",
       "    .dataframe tbody tr th:only-of-type {\n",
       "        vertical-align: middle;\n",
       "    }\n",
       "\n",
       "    .dataframe tbody tr th {\n",
       "        vertical-align: top;\n",
       "    }\n",
       "\n",
       "    .dataframe thead th {\n",
       "        text-align: right;\n",
       "    }\n",
       "</style>\n",
       "<table border=\"1\" class=\"dataframe\">\n",
       "  <thead>\n",
       "    <tr style=\"text-align: right;\">\n",
       "      <th></th>\n",
       "      <th>affiliation</th>\n",
       "      <th>participants</th>\n",
       "    </tr>\n",
       "  </thead>\n",
       "  <tbody>\n",
       "    <tr>\n",
       "      <th>0</th>\n",
       "      <td>TU DELFT</td>\n",
       "      <td>103</td>\n",
       "    </tr>\n",
       "    <tr>\n",
       "      <th>1</th>\n",
       "      <td>UVA</td>\n",
       "      <td>93</td>\n",
       "    </tr>\n",
       "    <tr>\n",
       "      <th>2</th>\n",
       "      <td>UTRECHT UNIVERSITY</td>\n",
       "      <td>77</td>\n",
       "    </tr>\n",
       "    <tr>\n",
       "      <th>3</th>\n",
       "      <td>VU AMSTERDAM</td>\n",
       "      <td>60</td>\n",
       "    </tr>\n",
       "    <tr>\n",
       "      <th>4</th>\n",
       "      <td>WAGENINGEN UNIVERSITY</td>\n",
       "      <td>48</td>\n",
       "    </tr>\n",
       "    <tr>\n",
       "      <th>5</th>\n",
       "      <td>LEIDEN UNIVERSITY</td>\n",
       "      <td>45</td>\n",
       "    </tr>\n",
       "    <tr>\n",
       "      <th>6</th>\n",
       "      <td>UNIVERSITY OF GRONINGEN</td>\n",
       "      <td>44</td>\n",
       "    </tr>\n",
       "    <tr>\n",
       "      <th>7</th>\n",
       "      <td>UNIVERSITY OF TWENTE</td>\n",
       "      <td>37</td>\n",
       "    </tr>\n",
       "    <tr>\n",
       "      <th>8</th>\n",
       "      <td>RADBOUD UNIVERSITY NIJMEGEN</td>\n",
       "      <td>33</td>\n",
       "    </tr>\n",
       "    <tr>\n",
       "      <th>9</th>\n",
       "      <td>TU/E</td>\n",
       "      <td>31</td>\n",
       "    </tr>\n",
       "    <tr>\n",
       "      <th>10</th>\n",
       "      <td>SURF SARA</td>\n",
       "      <td>28</td>\n",
       "    </tr>\n",
       "    <tr>\n",
       "      <th>11</th>\n",
       "      <td>MAASTRICHT UNIVERSITY</td>\n",
       "      <td>28</td>\n",
       "    </tr>\n",
       "    <tr>\n",
       "      <th>12</th>\n",
       "      <td>ERASMUS MC</td>\n",
       "      <td>27</td>\n",
       "    </tr>\n",
       "    <tr>\n",
       "      <th>13</th>\n",
       "      <td>ASTRON</td>\n",
       "      <td>23</td>\n",
       "    </tr>\n",
       "    <tr>\n",
       "      <th>14</th>\n",
       "      <td>UMC UTRECHT</td>\n",
       "      <td>19</td>\n",
       "    </tr>\n",
       "    <tr>\n",
       "      <th>15</th>\n",
       "      <td>NETHERLANDS INSTITUTE OF ECOLOGY (NIOO-KNAW)</td>\n",
       "      <td>14</td>\n",
       "    </tr>\n",
       "    <tr>\n",
       "      <th>16</th>\n",
       "      <td>DANS-KNAW</td>\n",
       "      <td>13</td>\n",
       "    </tr>\n",
       "    <tr>\n",
       "      <th>17</th>\n",
       "      <td>LEIDEN UNIVERSITY MEDICAL CENTER</td>\n",
       "      <td>12</td>\n",
       "    </tr>\n",
       "    <tr>\n",
       "      <th>18</th>\n",
       "      <td>NETHERLANDS INSTITUTE FOR SPACE RESEARCH (SRON)</td>\n",
       "      <td>11</td>\n",
       "    </tr>\n",
       "    <tr>\n",
       "      <th>19</th>\n",
       "      <td>SURF</td>\n",
       "      <td>11</td>\n",
       "    </tr>\n",
       "    <tr>\n",
       "      <th>20</th>\n",
       "      <td>NETHERLANDS INSTITUTE FOR NEUROSCIENCE</td>\n",
       "      <td>11</td>\n",
       "    </tr>\n",
       "    <tr>\n",
       "      <th>21</th>\n",
       "      <td>KNMI</td>\n",
       "      <td>9</td>\n",
       "    </tr>\n",
       "    <tr>\n",
       "      <th>22</th>\n",
       "      <td>HOGESCHOOL VAN AMSTERDAM</td>\n",
       "      <td>9</td>\n",
       "    </tr>\n",
       "    <tr>\n",
       "      <th>23</th>\n",
       "      <td>RIJK ZWAAN</td>\n",
       "      <td>8</td>\n",
       "    </tr>\n",
       "    <tr>\n",
       "      <th>24</th>\n",
       "      <td>CENTRUM WISKUNDE &amp; INFORMATICA</td>\n",
       "      <td>8</td>\n",
       "    </tr>\n",
       "    <tr>\n",
       "      <th>25</th>\n",
       "      <td>NWO</td>\n",
       "      <td>8</td>\n",
       "    </tr>\n",
       "    <tr>\n",
       "      <th>26</th>\n",
       "      <td>TILBURG UNIVERSITY</td>\n",
       "      <td>6</td>\n",
       "    </tr>\n",
       "    <tr>\n",
       "      <th>27</th>\n",
       "      <td>UMC AMSTERDAM</td>\n",
       "      <td>6</td>\n",
       "    </tr>\n",
       "    <tr>\n",
       "      <th>28</th>\n",
       "      <td>KONINKLIJKE BIBLIOTHEEK</td>\n",
       "      <td>6</td>\n",
       "    </tr>\n",
       "    <tr>\n",
       "      <th>29</th>\n",
       "      <td>HUYGENS INSTITUTE</td>\n",
       "      <td>6</td>\n",
       "    </tr>\n",
       "  </tbody>\n",
       "</table>\n",
       "</div>"
      ],
      "text/plain": [
       "                                        affiliation  participants\n",
       "0                                          TU DELFT           103\n",
       "1                                               UVA            93\n",
       "2                                UTRECHT UNIVERSITY            77\n",
       "3                                      VU AMSTERDAM            60\n",
       "4                             WAGENINGEN UNIVERSITY            48\n",
       "5                                 LEIDEN UNIVERSITY            45\n",
       "6                           UNIVERSITY OF GRONINGEN            44\n",
       "7                              UNIVERSITY OF TWENTE            37\n",
       "8                       RADBOUD UNIVERSITY NIJMEGEN            33\n",
       "9                                              TU/E            31\n",
       "10                                        SURF SARA            28\n",
       "11                            MAASTRICHT UNIVERSITY            28\n",
       "12                                       ERASMUS MC            27\n",
       "13                                           ASTRON            23\n",
       "14                                      UMC UTRECHT            19\n",
       "15     NETHERLANDS INSTITUTE OF ECOLOGY (NIOO-KNAW)            14\n",
       "16                                        DANS-KNAW            13\n",
       "17                 LEIDEN UNIVERSITY MEDICAL CENTER            12\n",
       "18  NETHERLANDS INSTITUTE FOR SPACE RESEARCH (SRON)            11\n",
       "19                                             SURF            11\n",
       "20           NETHERLANDS INSTITUTE FOR NEUROSCIENCE            11\n",
       "21                                             KNMI             9\n",
       "22                         HOGESCHOOL VAN AMSTERDAM             9\n",
       "23                                       RIJK ZWAAN             8\n",
       "24                   CENTRUM WISKUNDE & INFORMATICA             8\n",
       "25                                              NWO             8\n",
       "26                               TILBURG UNIVERSITY             6\n",
       "27                                    UMC AMSTERDAM             6\n",
       "28                          KONINKLIJKE BIBLIOTHEEK             6\n",
       "29                                HUYGENS INSTITUTE             6"
      ]
     },
     "execution_count": 79,
     "metadata": {},
     "output_type": "execute_result"
    }
   ],
   "source": [
    "# Excluding participants from eScience Center\n",
    "# Create df with participants by affiliation type\n",
    "\n",
    "df_participants_by_affiliation = pd.DataFrame(df_external['affiliation'].value_counts())\n",
    "df_participants_by_affiliation.reset_index (inplace = True)\n",
    "df_participants_by_affiliation.rename(columns = {'index': 'affiliation', 'affiliation': 'participants'}, inplace = True)\n",
    "df_participants_by_affiliation.head(30)"
   ]
  },
  {
   "cell_type": "code",
   "execution_count": 78,
   "id": "3dd9fb0a",
   "metadata": {},
   "outputs": [],
   "source": [
    "df_participants_by_affiliation.to_csv('participants_by_affiliation.csv')"
   ]
  },
  {
   "cell_type": "code",
   "execution_count": null,
   "id": "cde3a4f2",
   "metadata": {},
   "outputs": [],
   "source": []
  }
 ],
 "metadata": {
  "kernelspec": {
   "display_name": "Python 3",
   "language": "python",
   "name": "python3"
  },
  "language_info": {
   "codemirror_mode": {
    "name": "ipython",
    "version": 3
   },
   "file_extension": ".py",
   "mimetype": "text/x-python",
   "name": "python",
   "nbconvert_exporter": "python",
   "pygments_lexer": "ipython3",
   "version": "3.8.8"
  }
 },
 "nbformat": 4,
 "nbformat_minor": 5
}
