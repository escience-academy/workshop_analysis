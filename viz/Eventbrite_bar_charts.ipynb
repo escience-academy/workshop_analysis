{
 "cells": [
  {
   "cell_type": "markdown",
   "id": "dd245c43",
   "metadata": {},
   "source": [
    "# Visualization of EventBrite data: bar charts"
   ]
  },
  {
   "cell_type": "code",
   "execution_count": 82,
   "id": "71239a50",
   "metadata": {},
   "outputs": [],
   "source": [
    "# import packages\n",
    "\n",
    "import numpy as np\n",
    "import pandas as pd\n",
    "import matplotlib.pyplot as plt\n",
    "import seaborn as sns"
   ]
  },
  {
   "cell_type": "code",
   "execution_count": 83,
   "id": "c649d308",
   "metadata": {},
   "outputs": [],
   "source": [
    "df = pd.read_csv(\"../data/eventbrite.csv\")"
   ]
  },
  {
   "cell_type": "code",
   "execution_count": 84,
   "id": "16892633",
   "metadata": {},
   "outputs": [
    {
     "data": {
      "text/html": [
       "<div>\n",
       "<style scoped>\n",
       "    .dataframe tbody tr th:only-of-type {\n",
       "        vertical-align: middle;\n",
       "    }\n",
       "\n",
       "    .dataframe tbody tr th {\n",
       "        vertical-align: top;\n",
       "    }\n",
       "\n",
       "    .dataframe thead th {\n",
       "        text-align: right;\n",
       "    }\n",
       "</style>\n",
       "<table border=\"1\" class=\"dataframe\">\n",
       "  <thead>\n",
       "    <tr style=\"text-align: right;\">\n",
       "      <th></th>\n",
       "      <th>event</th>\n",
       "      <th>event_date</th>\n",
       "      <th>year</th>\n",
       "      <th>org_id</th>\n",
       "      <th>name</th>\n",
       "      <th>email</th>\n",
       "      <th>affiliation</th>\n",
       "      <th>Affiliation_type.y</th>\n",
       "      <th>car1</th>\n",
       "      <th>car2</th>\n",
       "      <th>...</th>\n",
       "      <th>created</th>\n",
       "      <th>event_type</th>\n",
       "      <th>event_level</th>\n",
       "      <th>event_focus</th>\n",
       "      <th>ticket_type</th>\n",
       "      <th>order_id</th>\n",
       "      <th>id</th>\n",
       "      <th>event_id</th>\n",
       "      <th>venue_id</th>\n",
       "      <th>uri</th>\n",
       "    </tr>\n",
       "  </thead>\n",
       "  <tbody>\n",
       "    <tr>\n",
       "      <th>0</th>\n",
       "      <td>4th National eScience Symposium - Science in a...</td>\n",
       "      <td>2016-10-13T09:30:00</td>\n",
       "      <td>2016</td>\n",
       "      <td>NLeSc</td>\n",
       "      <td>Marco de Vos</td>\n",
       "      <td>devos@astron.nl</td>\n",
       "      <td>ASTRON</td>\n",
       "      <td>Research institute</td>\n",
       "      <td>NaN</td>\n",
       "      <td>NaN</td>\n",
       "      <td>...</td>\n",
       "      <td>2016-05-20T09:54:13Z</td>\n",
       "      <td>eScience Symposium</td>\n",
       "      <td>Other</td>\n",
       "      <td>Other</td>\n",
       "      <td>Regular</td>\n",
       "      <td>520207803</td>\n",
       "      <td>655709628</td>\n",
       "      <td>24158128613</td>\n",
       "      <td>14338260.0</td>\n",
       "      <td>https://www.eventbriteapi.com/v3/events/241581...</td>\n",
       "    </tr>\n",
       "    <tr>\n",
       "      <th>1</th>\n",
       "      <td>4th National eScience Symposium - Science in a...</td>\n",
       "      <td>2016-10-13T09:30:00</td>\n",
       "      <td>2016</td>\n",
       "      <td>NLeSc</td>\n",
       "      <td>Gert Kruithof</td>\n",
       "      <td>kruithof@astron.nl</td>\n",
       "      <td>ASTRON</td>\n",
       "      <td>Research institute</td>\n",
       "      <td>NaN</td>\n",
       "      <td>NaN</td>\n",
       "      <td>...</td>\n",
       "      <td>2016-05-23T07:41:59Z</td>\n",
       "      <td>eScience Symposium</td>\n",
       "      <td>Other</td>\n",
       "      <td>Other</td>\n",
       "      <td>Early Bird</td>\n",
       "      <td>520781005</td>\n",
       "      <td>656441065</td>\n",
       "      <td>24158128613</td>\n",
       "      <td>14338260.0</td>\n",
       "      <td>https://www.eventbriteapi.com/v3/events/241581...</td>\n",
       "    </tr>\n",
       "    <tr>\n",
       "      <th>2</th>\n",
       "      <td>4th National eScience Symposium - Science in a...</td>\n",
       "      <td>2016-10-13T09:30:00</td>\n",
       "      <td>2016</td>\n",
       "      <td>NLeSc</td>\n",
       "      <td>Emma Beauxis-Aussalet</td>\n",
       "      <td>emalb@cwi.nl</td>\n",
       "      <td>CENTRUM WISKUNDE &amp; INFORMATICA</td>\n",
       "      <td>Research institute</td>\n",
       "      <td>NaN</td>\n",
       "      <td>NaN</td>\n",
       "      <td>...</td>\n",
       "      <td>2016-05-19T11:37:38Z</td>\n",
       "      <td>eScience Symposium</td>\n",
       "      <td>Other</td>\n",
       "      <td>Other</td>\n",
       "      <td>Student</td>\n",
       "      <td>519898955</td>\n",
       "      <td>655325883</td>\n",
       "      <td>24158128613</td>\n",
       "      <td>14338260.0</td>\n",
       "      <td>https://www.eventbriteapi.com/v3/events/241581...</td>\n",
       "    </tr>\n",
       "    <tr>\n",
       "      <th>3</th>\n",
       "      <td>4th National eScience Symposium - Science in a...</td>\n",
       "      <td>2016-10-13T09:30:00</td>\n",
       "      <td>2016</td>\n",
       "      <td>NLeSc</td>\n",
       "      <td>Vyacheslav Tykhonov</td>\n",
       "      <td>vyacheslav.tykhonov@dans.knaw.nl</td>\n",
       "      <td>DANS-KNAW</td>\n",
       "      <td>Research institute</td>\n",
       "      <td>NaN</td>\n",
       "      <td>NaN</td>\n",
       "      <td>...</td>\n",
       "      <td>2016-05-20T10:30:16Z</td>\n",
       "      <td>eScience Symposium</td>\n",
       "      <td>Other</td>\n",
       "      <td>Other</td>\n",
       "      <td>Early Bird</td>\n",
       "      <td>520212788</td>\n",
       "      <td>655715811</td>\n",
       "      <td>24158128613</td>\n",
       "      <td>14338260.0</td>\n",
       "      <td>https://www.eventbriteapi.com/v3/events/241581...</td>\n",
       "    </tr>\n",
       "    <tr>\n",
       "      <th>4</th>\n",
       "      <td>4th National eScience Symposium - Science in a...</td>\n",
       "      <td>2016-10-13T09:30:00</td>\n",
       "      <td>2016</td>\n",
       "      <td>NLeSc</td>\n",
       "      <td>Romulo Goncalves</td>\n",
       "      <td>r.goncalves@esciencecenter.nl</td>\n",
       "      <td>ESCIENCE CENTER</td>\n",
       "      <td>eScience Center</td>\n",
       "      <td>NaN</td>\n",
       "      <td>NaN</td>\n",
       "      <td>...</td>\n",
       "      <td>2016-05-19T11:39:03Z</td>\n",
       "      <td>eScience Symposium</td>\n",
       "      <td>Other</td>\n",
       "      <td>Other</td>\n",
       "      <td>Regular</td>\n",
       "      <td>519899181</td>\n",
       "      <td>655326149</td>\n",
       "      <td>24158128613</td>\n",
       "      <td>14338260.0</td>\n",
       "      <td>https://www.eventbriteapi.com/v3/events/241581...</td>\n",
       "    </tr>\n",
       "  </tbody>\n",
       "</table>\n",
       "<p>5 rows × 30 columns</p>\n",
       "</div>"
      ],
      "text/plain": [
       "                                               event           event_date  \\\n",
       "0  4th National eScience Symposium - Science in a...  2016-10-13T09:30:00   \n",
       "1  4th National eScience Symposium - Science in a...  2016-10-13T09:30:00   \n",
       "2  4th National eScience Symposium - Science in a...  2016-10-13T09:30:00   \n",
       "3  4th National eScience Symposium - Science in a...  2016-10-13T09:30:00   \n",
       "4  4th National eScience Symposium - Science in a...  2016-10-13T09:30:00   \n",
       "\n",
       "   year org_id                   name                             email  \\\n",
       "0  2016  NLeSc           Marco de Vos                   devos@astron.nl   \n",
       "1  2016  NLeSc          Gert Kruithof                kruithof@astron.nl   \n",
       "2  2016  NLeSc  Emma Beauxis-Aussalet                      emalb@cwi.nl   \n",
       "3  2016  NLeSc    Vyacheslav Tykhonov  vyacheslav.tykhonov@dans.knaw.nl   \n",
       "4  2016  NLeSc       Romulo Goncalves     r.goncalves@esciencecenter.nl   \n",
       "\n",
       "                      affiliation  Affiliation_type.y car1 car2  ...  \\\n",
       "0                          ASTRON  Research institute  NaN  NaN  ...   \n",
       "1                          ASTRON  Research institute  NaN  NaN  ...   \n",
       "2  CENTRUM WISKUNDE & INFORMATICA  Research institute  NaN  NaN  ...   \n",
       "3                       DANS-KNAW  Research institute  NaN  NaN  ...   \n",
       "4                 ESCIENCE CENTER     eScience Center  NaN  NaN  ...   \n",
       "\n",
       "                created          event_type event_level event_focus  \\\n",
       "0  2016-05-20T09:54:13Z  eScience Symposium       Other       Other   \n",
       "1  2016-05-23T07:41:59Z  eScience Symposium       Other       Other   \n",
       "2  2016-05-19T11:37:38Z  eScience Symposium       Other       Other   \n",
       "3  2016-05-20T10:30:16Z  eScience Symposium       Other       Other   \n",
       "4  2016-05-19T11:39:03Z  eScience Symposium       Other       Other   \n",
       "\n",
       "  ticket_type   order_id         id     event_id    venue_id  \\\n",
       "0     Regular  520207803  655709628  24158128613  14338260.0   \n",
       "1  Early Bird  520781005  656441065  24158128613  14338260.0   \n",
       "2     Student  519898955  655325883  24158128613  14338260.0   \n",
       "3  Early Bird  520212788  655715811  24158128613  14338260.0   \n",
       "4     Regular  519899181  655326149  24158128613  14338260.0   \n",
       "\n",
       "                                                 uri  \n",
       "0  https://www.eventbriteapi.com/v3/events/241581...  \n",
       "1  https://www.eventbriteapi.com/v3/events/241581...  \n",
       "2  https://www.eventbriteapi.com/v3/events/241581...  \n",
       "3  https://www.eventbriteapi.com/v3/events/241581...  \n",
       "4  https://www.eventbriteapi.com/v3/events/241581...  \n",
       "\n",
       "[5 rows x 30 columns]"
      ]
     },
     "execution_count": 84,
     "metadata": {},
     "output_type": "execute_result"
    }
   ],
   "source": [
    "df.head()"
   ]
  },
  {
   "cell_type": "code",
   "execution_count": 85,
   "id": "ce366ce1",
   "metadata": {},
   "outputs": [
    {
     "name": "stdout",
     "output_type": "stream",
     "text": [
      "<class 'pandas.core.frame.DataFrame'>\n",
      "RangeIndex: 1006 entries, 0 to 1005\n",
      "Data columns (total 30 columns):\n",
      " #   Column              Non-Null Count  Dtype  \n",
      "---  ------              --------------  -----  \n",
      " 0   event               1006 non-null   object \n",
      " 1   event_date          1006 non-null   object \n",
      " 2   year                1006 non-null   int64  \n",
      " 3   org_id              1006 non-null   object \n",
      " 4   name                1006 non-null   object \n",
      " 5   email               1006 non-null   object \n",
      " 6   affiliation         754 non-null    object \n",
      " 7   Affiliation_type.y  737 non-null    object \n",
      " 8   car1                404 non-null    object \n",
      " 9   car2                50 non-null     object \n",
      " 10  eSc_collab          377 non-null    object \n",
      " 11  ERCdis              537 non-null    object \n",
      " 12  NLeScdis            537 non-null    object \n",
      " 13  dis1                571 non-null    object \n",
      " 14  dis2                242 non-null    object \n",
      " 15  dis3                115 non-null    object \n",
      " 16  dis4                52 non-null     object \n",
      " 17  dis5                20 non-null     object \n",
      " 18  aff_country         737 non-null    object \n",
      " 19  RI_type             86 non-null     object \n",
      " 20  created             1006 non-null   object \n",
      " 21  event_type          1006 non-null   object \n",
      " 22  event_level         1006 non-null   object \n",
      " 23  event_focus         1006 non-null   object \n",
      " 24  ticket_type         1006 non-null   object \n",
      " 25  order_id            1006 non-null   int64  \n",
      " 26  id                  1006 non-null   int64  \n",
      " 27  event_id            1006 non-null   int64  \n",
      " 28  venue_id            375 non-null    float64\n",
      " 29  uri                 1006 non-null   object \n",
      "dtypes: float64(1), int64(4), object(25)\n",
      "memory usage: 235.9+ KB\n"
     ]
    }
   ],
   "source": [
    "df.info()"
   ]
  },
  {
   "cell_type": "markdown",
   "id": "7ae1f25e",
   "metadata": {},
   "source": [
    "## Bar charts"
   ]
  },
  {
   "cell_type": "markdown",
   "id": "4bd5e545",
   "metadata": {},
   "source": [
    "#### Bar chart function"
   ]
  },
  {
   "cell_type": "code",
   "execution_count": 142,
   "id": "720f6ffe",
   "metadata": {},
   "outputs": [],
   "source": [
    "# Define function for bar plot\n",
    "\n",
    "def barplot(df, x_column, y_column):\n",
    "    sns.set()\n",
    "    sns.set_style('white')\n",
    "    f, ax = plt.subplots(figsize=(8,6))\n",
    "    sns.barplot(x=x_column, y=y_column, data=df, color='deepskyblue')\n",
    "    ax.tick_params(axis='both', which='major', labelsize=14)\n",
    "    plt.xlabel(x_column, fontsize=16)\n",
    "    plt.ylabel(y_column, fontsize=16)\n",
    "    plt.suptitle(y_column + ' by ' + x_column, fontsize=18)\n",
    "    sns.despine()\n",
    "    \n",
    "    return plt.show()\n"
   ]
  },
  {
   "cell_type": "markdown",
   "id": "923d9124",
   "metadata": {},
   "source": [
    "#### Horizontal bar chart function"
   ]
  },
  {
   "cell_type": "code",
   "execution_count": 146,
   "id": "8c251215",
   "metadata": {},
   "outputs": [],
   "source": [
    "# Define function for horizontal bar plot\n",
    "\n",
    "def barplot_horiz(df, x_column, y_column):\n",
    "    sns.set()\n",
    "    sns.set_style('white')\n",
    "    f, ax = plt.subplots(figsize=(8,6))\n",
    "    sns.barplot(x=x_column, y=y_column, data=df, color='deepskyblue')\n",
    "    ax.tick_params(axis='both', which='major', labelsize=14)\n",
    "    plt.xlabel(x_column, fontsize=16)\n",
    "    plt.ylabel(\"\", fontsize=16)\n",
    "    plt.suptitle(x_column + ' by ' + y_column, fontsize=18)\n",
    "    sns.despine()\n",
    "    \n",
    "    return plt.show()\n"
   ]
  },
  {
   "cell_type": "markdown",
   "id": "57094e89",
   "metadata": {},
   "source": [
    "#### Participants by year"
   ]
  },
  {
   "cell_type": "code",
   "execution_count": 122,
   "id": "22b048cf",
   "metadata": {},
   "outputs": [
    {
     "data": {
      "text/plain": [
       "TU DELFT              77\n",
       "UVA                   60\n",
       "VU AMSTERDAM          49\n",
       "UTRECHT UNIVERSITY    48\n",
       "LEIDEN UNIVERSITY     31\n",
       "                      ..\n",
       "WESTERN UNIVERSITY     1\n",
       "ROBOVALLEY             1\n",
       "NOKIA                  1\n",
       "MAASTRO CLINIC         1\n",
       "BELASTINGDIENST        1\n",
       "Name: affiliation, Length: 84, dtype: int64"
      ]
     },
     "execution_count": 122,
     "metadata": {},
     "output_type": "execute_result"
    }
   ],
   "source": [
    "# filter out escience employees\n",
    "df_external = df[df['affiliation'] != 'ESCIENCE CENTER']\n",
    "df_external['affiliation'].value_counts()"
   ]
  },
  {
   "cell_type": "code",
   "execution_count": 124,
   "id": "b1c3d2d5",
   "metadata": {
    "scrolled": false
   },
   "outputs": [
    {
     "data": {
      "text/html": [
       "<div>\n",
       "<style scoped>\n",
       "    .dataframe tbody tr th:only-of-type {\n",
       "        vertical-align: middle;\n",
       "    }\n",
       "\n",
       "    .dataframe tbody tr th {\n",
       "        vertical-align: top;\n",
       "    }\n",
       "\n",
       "    .dataframe thead th {\n",
       "        text-align: right;\n",
       "    }\n",
       "</style>\n",
       "<table border=\"1\" class=\"dataframe\">\n",
       "  <thead>\n",
       "    <tr style=\"text-align: right;\">\n",
       "      <th></th>\n",
       "      <th>year</th>\n",
       "      <th>participants</th>\n",
       "    </tr>\n",
       "  </thead>\n",
       "  <tbody>\n",
       "    <tr>\n",
       "      <th>0</th>\n",
       "      <td>2016</td>\n",
       "      <td>29</td>\n",
       "    </tr>\n",
       "    <tr>\n",
       "      <th>1</th>\n",
       "      <td>2017</td>\n",
       "      <td>160</td>\n",
       "    </tr>\n",
       "    <tr>\n",
       "      <th>2</th>\n",
       "      <td>2018</td>\n",
       "      <td>67</td>\n",
       "    </tr>\n",
       "    <tr>\n",
       "      <th>3</th>\n",
       "      <td>2019</td>\n",
       "      <td>50</td>\n",
       "    </tr>\n",
       "    <tr>\n",
       "      <th>4</th>\n",
       "      <td>2020</td>\n",
       "      <td>239</td>\n",
       "    </tr>\n",
       "  </tbody>\n",
       "</table>\n",
       "</div>"
      ],
      "text/plain": [
       "   year  participants\n",
       "0  2016            29\n",
       "1  2017           160\n",
       "2  2018            67\n",
       "3  2019            50\n",
       "4  2020           239"
      ]
     },
     "execution_count": 124,
     "metadata": {},
     "output_type": "execute_result"
    }
   ],
   "source": [
    "# Create df with participants by year\n",
    "\n",
    "df_participants_by_year = df_external.groupby('year').agg({'order_id': 'count'}).reset_index()\n",
    "df_participants_by_year.rename(columns = {'order_id': 'participants'}, inplace = True)\n",
    "df_participants_by_year.head()"
   ]
  },
  {
   "cell_type": "code",
   "execution_count": 135,
   "id": "2fa1ed46",
   "metadata": {
    "scrolled": false
   },
   "outputs": [
    {
     "data": {
      "image/png": "[encoded data removed]",
      "text/plain": [
       "<Figure size 576x432 with 1 Axes>"
      ]
     },
     "metadata": {},
     "output_type": "display_data"
    }
   ],
   "source": [
    "# plot participants by year\n",
    "barplot(df_participants_by_year, 'year', 'participants')"
   ]
  },
  {
   "cell_type": "markdown",
   "id": "4ef1a330",
   "metadata": {},
   "source": [
    "#### Digital skills: participants by year "
   ]
  },
  {
   "cell_type": "code",
   "execution_count": 126,
   "id": "4595cb98",
   "metadata": {},
   "outputs": [
    {
     "data": {
      "text/plain": [
       "NLeSc    653\n",
       "ePlan     35\n",
       "Name: org_id, dtype: int64"
      ]
     },
     "execution_count": 126,
     "metadata": {},
     "output_type": "execute_result"
    }
   ],
   "source": [
    "# select digital skills events only\n",
    "\n",
    "# only escience events\n",
    "df_escience = df_external[(df_external['org_id'] == 'NLeSc') | (df_external['org_id'] == 'ePlan')]\n",
    "\n",
    "# filter out the escience symposia\n",
    "df_digitalskills = df_escience[df_escience['event'].str.contains('Symposium') == False]\n",
    "\n",
    "df_digitalskills['org_id'].value_counts()"
   ]
  },
  {
   "cell_type": "code",
   "execution_count": 127,
   "id": "5bd60c44",
   "metadata": {
    "scrolled": true
   },
   "outputs": [
    {
     "data": {
      "text/html": [
       "<div>\n",
       "<style scoped>\n",
       "    .dataframe tbody tr th:only-of-type {\n",
       "        vertical-align: middle;\n",
       "    }\n",
       "\n",
       "    .dataframe tbody tr th {\n",
       "        vertical-align: top;\n",
       "    }\n",
       "\n",
       "    .dataframe thead th {\n",
       "        text-align: right;\n",
       "    }\n",
       "</style>\n",
       "<table border=\"1\" class=\"dataframe\">\n",
       "  <thead>\n",
       "    <tr style=\"text-align: right;\">\n",
       "      <th></th>\n",
       "      <th>year</th>\n",
       "      <th>participants</th>\n",
       "    </tr>\n",
       "  </thead>\n",
       "  <tbody>\n",
       "    <tr>\n",
       "      <th>0</th>\n",
       "      <td>2017</td>\n",
       "      <td>104</td>\n",
       "    </tr>\n",
       "    <tr>\n",
       "      <th>1</th>\n",
       "      <td>2018</td>\n",
       "      <td>67</td>\n",
       "    </tr>\n",
       "    <tr>\n",
       "      <th>2</th>\n",
       "      <td>2019</td>\n",
       "      <td>44</td>\n",
       "    </tr>\n",
       "    <tr>\n",
       "      <th>3</th>\n",
       "      <td>2020</td>\n",
       "      <td>182</td>\n",
       "    </tr>\n",
       "    <tr>\n",
       "      <th>4</th>\n",
       "      <td>2021</td>\n",
       "      <td>291</td>\n",
       "    </tr>\n",
       "  </tbody>\n",
       "</table>\n",
       "</div>"
      ],
      "text/plain": [
       "   year  participants\n",
       "0  2017           104\n",
       "1  2018            67\n",
       "2  2019            44\n",
       "3  2020           182\n",
       "4  2021           291"
      ]
     },
     "execution_count": 127,
     "metadata": {},
     "output_type": "execute_result"
    }
   ],
   "source": [
    "# Create df with NL-RSE participants by year\n",
    "\n",
    "df_digitalskills_participants_by_year = df_digitalskills.groupby('year').agg({'org_id': 'count'}).reset_index()\n",
    "df_digitalskills_participants_by_year.rename(columns = {'org_id': 'participants'}, inplace = True)\n",
    "df_digitalskills_participants_by_year.head()\n"
   ]
  },
  {
   "cell_type": "code",
   "execution_count": 105,
   "id": "63738f35",
   "metadata": {
    "scrolled": false
   },
   "outputs": [
    {
     "data": {
      "image/png": "[encoded data removed]",
      "text/plain": [
       "<Figure size 576x432 with 1 Axes>"
      ]
     },
     "metadata": {},
     "output_type": "display_data"
    }
   ],
   "source": [
    "# plot participants by year for digital skills events\n",
    "\n",
    "barplot(df_digitalskills_participants_by_year, 'year', 'participants')"
   ]
  },
  {
   "cell_type": "markdown",
   "id": "4f9b42fe",
   "metadata": {},
   "source": [
    "#### NL-RSE: participants by year "
   ]
  },
  {
   "cell_type": "code",
   "execution_count": 128,
   "id": "07a1f0c9",
   "metadata": {},
   "outputs": [
    {
     "data": {
      "text/plain": [
       "NL-RSE    129\n",
       "Name: org_id, dtype: int64"
      ]
     },
     "execution_count": 128,
     "metadata": {},
     "output_type": "execute_result"
    }
   ],
   "source": [
    "# only NL-RSE events\n",
    "df_nlrse = df_external[df_external['org_id'] == 'NL-RSE']\n",
    "df_nlrse['org_id'].value_counts()"
   ]
  },
  {
   "cell_type": "code",
   "execution_count": 129,
   "id": "9543ead8",
   "metadata": {
    "scrolled": true
   },
   "outputs": [
    {
     "data": {
      "text/html": [
       "<div>\n",
       "<style scoped>\n",
       "    .dataframe tbody tr th:only-of-type {\n",
       "        vertical-align: middle;\n",
       "    }\n",
       "\n",
       "    .dataframe tbody tr th {\n",
       "        vertical-align: top;\n",
       "    }\n",
       "\n",
       "    .dataframe thead th {\n",
       "        text-align: right;\n",
       "    }\n",
       "</style>\n",
       "<table border=\"1\" class=\"dataframe\">\n",
       "  <thead>\n",
       "    <tr style=\"text-align: right;\">\n",
       "      <th></th>\n",
       "      <th>year</th>\n",
       "      <th>participants</th>\n",
       "    </tr>\n",
       "  </thead>\n",
       "  <tbody>\n",
       "    <tr>\n",
       "      <th>0</th>\n",
       "      <td>2020</td>\n",
       "      <td>57</td>\n",
       "    </tr>\n",
       "    <tr>\n",
       "      <th>1</th>\n",
       "      <td>2021</td>\n",
       "      <td>72</td>\n",
       "    </tr>\n",
       "  </tbody>\n",
       "</table>\n",
       "</div>"
      ],
      "text/plain": [
       "   year  participants\n",
       "0  2020            57\n",
       "1  2021            72"
      ]
     },
     "execution_count": 129,
     "metadata": {},
     "output_type": "execute_result"
    }
   ],
   "source": [
    "# Create df with NL-RSE participants by year\n",
    "df_nlrse_participants_by_year = df_nlrse.groupby('year').agg({'order_id': 'count'}).reset_index()\n",
    "df_nlrse_participants_by_year.rename(columns = {'order_id': 'participants'}, inplace = True)\n",
    "df_nlrse_participants_by_year.head()"
   ]
  },
  {
   "cell_type": "code",
   "execution_count": 130,
   "id": "07fa558c",
   "metadata": {},
   "outputs": [
    {
     "data": {
      "image/png": "[encoded data removed]",
      "text/plain": [
       "<Figure size 576x432 with 1 Axes>"
      ]
     },
     "metadata": {},
     "output_type": "display_data"
    }
   ],
   "source": [
    "# plot participants by year for NL-RSE events\n",
    "\n",
    "barplot(df_nlrse_participants_by_year, 'year', 'participants')"
   ]
  },
  {
   "cell_type": "code",
   "execution_count": 131,
   "id": "96ee98c7",
   "metadata": {},
   "outputs": [
    {
     "data": {
      "image/png": "[encoded data removed]",
      "text/plain": [
       "<Figure size 576x432 with 1 Axes>"
      ]
     },
     "metadata": {},
     "output_type": "display_data"
    }
   ],
   "source": [
    "# adjust column width\n",
    "\n",
    "sns.set()\n",
    "sns.set_style('white')\n",
    "f, ax = plt.subplots(figsize=(8,6))\n",
    "sns.barplot(x='year', y='participants', data=df_nlrse_participants_by_year, color='deepskyblue')\n",
    "ax.tick_params(axis='both', which='major', labelsize=14)\n",
    "plt.xlabel('year', fontsize=16)\n",
    "plt.ylabel('participants', fontsize=16)\n",
    "plt.suptitle('participants by year', fontsize=18)\n",
    "sns.despine()\n",
    "\n",
    "def change_width(ax, new_value) :\n",
    "    for patch in ax.patches :\n",
    "        current_width = patch.get_width()\n",
    "        diff = current_width - new_value\n",
    "\n",
    "        # change the bar width\n",
    "        patch.set_width(new_value)\n",
    "\n",
    "        # recenter the bar\n",
    "        patch.set_x(patch.get_x() + diff * .5)\n",
    "\n",
    "change_width(ax, .40)\n",
    "plt.show()"
   ]
  },
  {
   "cell_type": "code",
   "execution_count": null,
   "id": "22cc6657",
   "metadata": {},
   "outputs": [],
   "source": []
  },
  {
   "cell_type": "markdown",
   "id": "1f07a46d",
   "metadata": {},
   "source": [
    "#### Participants by affiliation type"
   ]
  },
  {
   "cell_type": "code",
   "execution_count": 148,
   "id": "eb8bf92e",
   "metadata": {
    "scrolled": true
   },
   "outputs": [
    {
     "data": {
      "text/html": [
       "<div>\n",
       "<style scoped>\n",
       "    .dataframe tbody tr th:only-of-type {\n",
       "        vertical-align: middle;\n",
       "    }\n",
       "\n",
       "    .dataframe tbody tr th {\n",
       "        vertical-align: top;\n",
       "    }\n",
       "\n",
       "    .dataframe thead th {\n",
       "        text-align: right;\n",
       "    }\n",
       "</style>\n",
       "<table border=\"1\" class=\"dataframe\">\n",
       "  <thead>\n",
       "    <tr style=\"text-align: right;\">\n",
       "      <th></th>\n",
       "      <th>affiliation type</th>\n",
       "      <th>participants</th>\n",
       "    </tr>\n",
       "  </thead>\n",
       "  <tbody>\n",
       "    <tr>\n",
       "      <th>0</th>\n",
       "      <td>University</td>\n",
       "      <td>447</td>\n",
       "    </tr>\n",
       "    <tr>\n",
       "      <th>1</th>\n",
       "      <td>eScience Center</td>\n",
       "      <td>98</td>\n",
       "    </tr>\n",
       "    <tr>\n",
       "      <th>2</th>\n",
       "      <td>Research institute</td>\n",
       "      <td>55</td>\n",
       "    </tr>\n",
       "    <tr>\n",
       "      <th>3</th>\n",
       "      <td>University Medical Center</td>\n",
       "      <td>48</td>\n",
       "    </tr>\n",
       "    <tr>\n",
       "      <th>4</th>\n",
       "      <td>Research Institute</td>\n",
       "      <td>31</td>\n",
       "    </tr>\n",
       "  </tbody>\n",
       "</table>\n",
       "</div>"
      ],
      "text/plain": [
       "            affiliation type  participants\n",
       "0                 University           447\n",
       "1            eScience Center            98\n",
       "2         Research institute            55\n",
       "3  University Medical Center            48\n",
       "4         Research Institute            31"
      ]
     },
     "execution_count": 148,
     "metadata": {},
     "output_type": "execute_result"
    }
   ],
   "source": [
    "# Create df with participants by affiliation type\n",
    "\n",
    "df_participants_by_affl = pd.DataFrame(df['Affiliation_type.y'].value_counts())\n",
    "df_participants_by_affl.reset_index (inplace = True)\n",
    "df_participants_by_affl.rename(columns = {'index': 'affiliation type', 'Affiliation_type.y': 'participants'}, inplace = True)\n",
    "df_participants_by_affl.head()"
   ]
  },
  {
   "cell_type": "code",
   "execution_count": 149,
   "id": "48cdce19",
   "metadata": {},
   "outputs": [
    {
     "data": {
      "image/png": "[encoded data removed]",
      "text/plain": [
       "<Figure size 576x432 with 1 Axes>"
      ]
     },
     "metadata": {},
     "output_type": "display_data"
    }
   ],
   "source": [
    "# Create horizontal bar chart \n",
    "\n",
    "barplot_horiz(df_participants_by_affl, 'participants', 'affiliation type')"
   ]
  },
  {
   "cell_type": "markdown",
   "id": "d9c950c5",
   "metadata": {},
   "source": [
    "### <span style='background:yellow'> TO DO: FIX AFFILIATION TYPE NAMES: Research institute (capital inconsistent), NWO & KNAW </span>"
   ]
  },
  {
   "cell_type": "code",
   "execution_count": 151,
   "id": "6fba520a",
   "metadata": {},
   "outputs": [
    {
     "data": {
      "text/html": [
       "<div>\n",
       "<style scoped>\n",
       "    .dataframe tbody tr th:only-of-type {\n",
       "        vertical-align: middle;\n",
       "    }\n",
       "\n",
       "    .dataframe tbody tr th {\n",
       "        vertical-align: top;\n",
       "    }\n",
       "\n",
       "    .dataframe thead th {\n",
       "        text-align: right;\n",
       "    }\n",
       "</style>\n",
       "<table border=\"1\" class=\"dataframe\">\n",
       "  <thead>\n",
       "    <tr style=\"text-align: right;\">\n",
       "      <th></th>\n",
       "      <th>affiliation type</th>\n",
       "      <th>participants</th>\n",
       "    </tr>\n",
       "  </thead>\n",
       "  <tbody>\n",
       "    <tr>\n",
       "      <th>0</th>\n",
       "      <td>University</td>\n",
       "      <td>447</td>\n",
       "    </tr>\n",
       "    <tr>\n",
       "      <th>1</th>\n",
       "      <td>Research institute</td>\n",
       "      <td>55</td>\n",
       "    </tr>\n",
       "    <tr>\n",
       "      <th>2</th>\n",
       "      <td>University Medical Center</td>\n",
       "      <td>48</td>\n",
       "    </tr>\n",
       "    <tr>\n",
       "      <th>3</th>\n",
       "      <td>Research Institute</td>\n",
       "      <td>31</td>\n",
       "    </tr>\n",
       "    <tr>\n",
       "      <th>4</th>\n",
       "      <td>Consortium</td>\n",
       "      <td>15</td>\n",
       "    </tr>\n",
       "  </tbody>\n",
       "</table>\n",
       "</div>"
      ],
      "text/plain": [
       "            affiliation type  participants\n",
       "0                 University           447\n",
       "1         Research institute            55\n",
       "2  University Medical Center            48\n",
       "3         Research Institute            31\n",
       "4                 Consortium            15"
      ]
     },
     "execution_count": 151,
     "metadata": {},
     "output_type": "execute_result"
    }
   ],
   "source": [
    "# Excluding participants from eScience Center\n",
    "# Create df with participants by affiliation type\n",
    "\n",
    "df_participants_by_affl = pd.DataFrame(df_external['Affiliation_type.y'].value_counts())\n",
    "df_participants_by_affl.reset_index (inplace = True)\n",
    "df_participants_by_affl.rename(columns = {'index': 'affiliation type', 'Affiliation_type.y': 'participants'}, inplace = True)\n",
    "df_participants_by_affl.head()"
   ]
  },
  {
   "cell_type": "code",
   "execution_count": 152,
   "id": "68dbc4ef",
   "metadata": {},
   "outputs": [
    {
     "data": {
      "image/png": "[encoded data removed]",
      "text/plain": [
       "<Figure size 576x432 with 1 Axes>"
      ]
     },
     "metadata": {},
     "output_type": "display_data"
    }
   ],
   "source": [
    "# Create horizontal bar chart \n",
    "\n",
    "barplot_horiz(df_participants_by_affl, 'participants', 'affiliation type')"
   ]
  },
  {
   "cell_type": "markdown",
   "id": "be3f5da7",
   "metadata": {},
   "source": [
    "#### Participants by disciplinary section"
   ]
  },
  {
   "cell_type": "code",
   "execution_count": 153,
   "id": "02dadb52",
   "metadata": {},
   "outputs": [
    {
     "data": {
      "text/html": [
       "<div>\n",
       "<style scoped>\n",
       "    .dataframe tbody tr th:only-of-type {\n",
       "        vertical-align: middle;\n",
       "    }\n",
       "\n",
       "    .dataframe tbody tr th {\n",
       "        vertical-align: top;\n",
       "    }\n",
       "\n",
       "    .dataframe thead th {\n",
       "        text-align: right;\n",
       "    }\n",
       "</style>\n",
       "<table border=\"1\" class=\"dataframe\">\n",
       "  <thead>\n",
       "    <tr style=\"text-align: right;\">\n",
       "      <th></th>\n",
       "      <th>disciplinary section</th>\n",
       "      <th>participants</th>\n",
       "    </tr>\n",
       "  </thead>\n",
       "  <tbody>\n",
       "    <tr>\n",
       "      <th>0</th>\n",
       "      <td>Ph&amp;B</td>\n",
       "      <td>215</td>\n",
       "    </tr>\n",
       "    <tr>\n",
       "      <th>1</th>\n",
       "      <td>LS</td>\n",
       "      <td>213</td>\n",
       "    </tr>\n",
       "    <tr>\n",
       "      <th>2</th>\n",
       "      <td>SSH</td>\n",
       "      <td>81</td>\n",
       "    </tr>\n",
       "    <tr>\n",
       "      <th>3</th>\n",
       "      <td>SE</td>\n",
       "      <td>28</td>\n",
       "    </tr>\n",
       "  </tbody>\n",
       "</table>\n",
       "</div>"
      ],
      "text/plain": [
       "  disciplinary section  participants\n",
       "0                 Ph&B           215\n",
       "1                   LS           213\n",
       "2                  SSH            81\n",
       "3                   SE            28"
      ]
     },
     "execution_count": 153,
     "metadata": {},
     "output_type": "execute_result"
    }
   ],
   "source": [
    "# Create df with participants by disciplinary section\n",
    "# quite a lot of missing data but that's because of the eventbrite forms of some of the events\n",
    "\n",
    "df_participants_by_section = pd.DataFrame(df['NLeScdis'].value_counts())\n",
    "df_participants_by_section.reset_index (inplace = True)\n",
    "df_participants_by_section.rename(columns = {'index': 'disciplinary section', 'NLeScdis': 'participants'}, inplace = True)\n",
    "df_participants_by_section.head()"
   ]
  },
  {
   "cell_type": "code",
   "execution_count": 159,
   "id": "2f68d65e",
   "metadata": {
    "scrolled": false
   },
   "outputs": [
    {
     "data": {
      "image/png": "[encoded data removed]",
      "text/plain": [
       "<Figure size 576x432 with 1 Axes>"
      ]
     },
     "metadata": {},
     "output_type": "display_data"
    }
   ],
   "source": [
    "# create bar chart with adjusted column width\n",
    "\n",
    "# adjust column width\n",
    "\n",
    "sns.set()\n",
    "sns.set_style('white')\n",
    "f, ax = plt.subplots(figsize=(8,6))\n",
    "sns.barplot(x='disciplinary section', y='participants', data=df_participants_by_section, color='deepskyblue')\n",
    "ax.tick_params(axis='both', which='major', labelsize=14)\n",
    "plt.xlabel('disciplinary section', fontsize=16)\n",
    "plt.ylabel('participants', fontsize=16)\n",
    "plt.suptitle('participants by disciplinary section', fontsize=18)\n",
    "sns.despine()\n",
    "\n",
    "def change_width(ax, new_value) :\n",
    "    for patch in ax.patches :\n",
    "        current_width = patch.get_width()\n",
    "        diff = current_width - new_value\n",
    "\n",
    "        # change the bar width\n",
    "        patch.set_width(new_value)\n",
    "\n",
    "        # recenter the bar\n",
    "        patch.set_x(patch.get_x() + diff * .5)\n",
    "\n",
    "change_width(ax, .50)\n",
    "plt.show()\n"
   ]
  },
  {
   "cell_type": "markdown",
   "id": "f361b928",
   "metadata": {},
   "source": [
    "### <span style='background:yellow'> TO DO: FIX SECTION NAMES TO BE WRITTEN OUT FULLY </span>\n",
    "\n",
    "A horizontal bar chart will be more suitable in that case"
   ]
  },
  {
   "cell_type": "code",
   "execution_count": null,
   "id": "6ef12f24",
   "metadata": {},
   "outputs": [],
   "source": []
  }
 ],
 "metadata": {
  "kernelspec": {
   "display_name": "Python 3",
   "language": "python",
   "name": "python3"
  },
  "language_info": {
   "codemirror_mode": {
    "name": "ipython",
    "version": 3
   },
   "file_extension": ".py",
   "mimetype": "text/x-python",
   "name": "python",
   "nbconvert_exporter": "python",
   "pygments_lexer": "ipython3",
   "version": "3.8.8"
  }
 },
 "nbformat": 4,
 "nbformat_minor": 5
}
