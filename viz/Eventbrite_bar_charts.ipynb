{
 "cells": [
  {
   "cell_type": "markdown",
   "id": "dd245c43",
   "metadata": {},
   "source": [
    "# Visualization of EventBrite data: bar charts"
   ]
  },
  {
   "cell_type": "code",
   "execution_count": null,
   "id": "71239a50",
   "metadata": {},
   "outputs": [],
   "source": [
    "# import packages\n",
    "\n",
    "import numpy as np\n",
    "import pandas as pd\n",
    "import matplotlib.pyplot as plt\n",
    "import seaborn as sns"
   ]
  },
  {
   "cell_type": "code",
   "execution_count": null,
   "id": "c649d308",
   "metadata": {},
   "outputs": [],
   "source": [
    "df = pd.read_csv(\"../data/eventbrite.csv\")"
   ]
  },
  {
   "cell_type": "code",
   "execution_count": null,
   "id": "16892633",
   "metadata": {},
   "outputs": [],
   "source": [
    "df.head()"
   ]
  },
  {
   "cell_type": "code",
   "execution_count": null,
   "id": "ce366ce1",
   "metadata": {},
   "outputs": [],
   "source": [
    "df.info()"
   ]
  },
  {
   "cell_type": "markdown",
   "id": "7ae1f25e",
   "metadata": {},
   "source": [
    "## Bar charts"
   ]
  },
  {
   "cell_type": "markdown",
   "id": "4bd5e545",
   "metadata": {},
   "source": [
    "#### Bar chart function"
   ]
  },
  {
   "cell_type": "code",
   "execution_count": null,
   "id": "720f6ffe",
   "metadata": {},
   "outputs": [],
   "source": [
    "# Define function for bar plot\n",
    "\n",
    "def barplot(df, x_column, y_column):\n",
    "    sns.set()\n",
    "    sns.set_style('white')\n",
    "    f, ax = plt.subplots(figsize=(8,6))\n",
    "    sns.barplot(x=x_column, y=y_column, data=df, color='deepskyblue')\n",
    "    ax.tick_params(axis='both', which='major', labelsize=14)\n",
    "    plt.xlabel(x_column, fontsize=16)\n",
    "    plt.ylabel(y_column, fontsize=16)\n",
    "    plt.suptitle(y_column + ' by ' + x_column, fontsize=18)\n",
    "    sns.despine()\n",
    "    \n",
    "    return plt.show()\n"
   ]
  },
  {
   "cell_type": "markdown",
   "id": "923d9124",
   "metadata": {},
   "source": [
    "#### Horizontal bar chart function"
   ]
  },
  {
   "cell_type": "code",
   "execution_count": null,
   "id": "8c251215",
   "metadata": {},
   "outputs": [],
   "source": [
    "# Define function for horizontal bar plot\n",
    "\n",
    "def barplot_horiz(df, x_column, y_column):\n",
    "    sns.set()\n",
    "    sns.set_style('white')\n",
    "    f, ax = plt.subplots(figsize=(8,6))\n",
    "    sns.barplot(x=x_column, y=y_column, data=df, color='deepskyblue')\n",
    "    ax.tick_params(axis='both', which='major', labelsize=14)\n",
    "    plt.xlabel(x_column, fontsize=16)\n",
    "    plt.ylabel(\"\", fontsize=16)\n",
    "    plt.suptitle(x_column + ' by ' + y_column, fontsize=18)\n",
    "    sns.despine()\n",
    "    \n",
    "    return plt.show()\n"
   ]
  },
  {
   "cell_type": "markdown",
   "id": "57094e89",
   "metadata": {},
   "source": [
    "#### Participants by year"
   ]
  },
  {
   "cell_type": "code",
   "execution_count": null,
   "id": "22b048cf",
   "metadata": {},
   "outputs": [],
   "source": [
    "# filter out escience employees\n",
    "df_external = df[df['affiliation'] != 'ESCIENCE CENTER']\n",
    "df_external['affiliation'].value_counts()"
   ]
  },
  {
   "cell_type": "code",
   "execution_count": null,
   "id": "b1c3d2d5",
   "metadata": {
    "scrolled": false
   },
   "outputs": [],
   "source": [
    "# Create df with participants by year\n",
    "\n",
    "df_participants_by_year = df_external.groupby('year').agg({'order_id': 'count'}).reset_index()\n",
    "df_participants_by_year.rename(columns = {'order_id': 'participants'}, inplace = True)\n",
    "df_participants_by_year.head()"
   ]
  },
  {
   "cell_type": "code",
   "execution_count": null,
   "id": "2fa1ed46",
   "metadata": {
    "scrolled": false
   },
   "outputs": [],
   "source": [
    "# plot participants by year\n",
    "barplot(df_participants_by_year, 'year', 'participants')"
   ]
  },
  {
   "cell_type": "markdown",
   "id": "4ef1a330",
   "metadata": {},
   "source": [
    "#### Digital skills: participants by year "
   ]
  },
  {
   "cell_type": "code",
   "execution_count": null,
   "id": "4595cb98",
   "metadata": {},
   "outputs": [],
   "source": [
    "# select digital skills events only\n",
    "\n",
    "# only escience events\n",
    "df_escience = df_external[(df_external['org_id'] == 'NLeSc') | (df_external['org_id'] == 'ePlan')]\n",
    "\n",
    "# filter out the escience symposia\n",
    "df_digitalskills = df_escience[df_escience['event'].str.contains('Symposium') == False]\n",
    "\n",
    "df_digitalskills['org_id'].value_counts()"
   ]
  },
  {
   "cell_type": "code",
   "execution_count": null,
   "id": "5bd60c44",
   "metadata": {
    "scrolled": true
   },
   "outputs": [],
   "source": [
    "# Create df with NL-RSE participants by year\n",
    "\n",
    "df_digitalskills_participants_by_year = df_digitalskills.groupby('year').agg({'org_id': 'count'}).reset_index()\n",
    "df_digitalskills_participants_by_year.rename(columns = {'org_id': 'participants'}, inplace = True)\n",
    "df_digitalskills_participants_by_year.head()\n"
   ]
  },
  {
   "cell_type": "code",
   "execution_count": null,
   "id": "63738f35",
   "metadata": {
    "scrolled": false
   },
   "outputs": [],
   "source": [
    "# plot participants by year for digital skills events\n",
    "\n",
    "barplot(df_digitalskills_participants_by_year, 'year', 'participants')"
   ]
  },
  {
   "cell_type": "markdown",
   "id": "4f9b42fe",
   "metadata": {},
   "source": [
    "#### NL-RSE: participants by year "
   ]
  },
  {
   "cell_type": "code",
   "execution_count": null,
   "id": "07a1f0c9",
   "metadata": {},
   "outputs": [],
   "source": [
    "# only NL-RSE events\n",
    "df_nlrse = df_external[df_external['org_id'] == 'NL-RSE']\n",
    "df_nlrse['org_id'].value_counts()"
   ]
  },
  {
   "cell_type": "code",
   "execution_count": null,
   "id": "9543ead8",
   "metadata": {
    "scrolled": true
   },
   "outputs": [],
   "source": [
    "# Create df with NL-RSE participants by year\n",
    "df_nlrse_participants_by_year = df_nlrse.groupby('year').agg({'order_id': 'count'}).reset_index()\n",
    "df_nlrse_participants_by_year.rename(columns = {'order_id': 'participants'}, inplace = True)\n",
    "df_nlrse_participants_by_year.head()"
   ]
  },
  {
   "cell_type": "code",
   "execution_count": null,
   "id": "07fa558c",
   "metadata": {},
   "outputs": [],
   "source": [
    "# plot participants by year for NL-RSE events\n",
    "\n",
    "barplot(df_nlrse_participants_by_year, 'year', 'participants')"
   ]
  },
  {
   "cell_type": "code",
   "execution_count": null,
   "id": "96ee98c7",
   "metadata": {},
   "outputs": [],
   "source": [
    "# adjust column width\n",
    "\n",
    "sns.set()\n",
    "sns.set_style('white')\n",
    "f, ax = plt.subplots(figsize=(8,6))\n",
    "sns.barplot(x='year', y='participants', data=df_nlrse_participants_by_year, color='deepskyblue')\n",
    "ax.tick_params(axis='both', which='major', labelsize=14)\n",
    "plt.xlabel('year', fontsize=16)\n",
    "plt.ylabel('participants', fontsize=16)\n",
    "plt.suptitle('participants by year', fontsize=18)\n",
    "sns.despine()\n",
    "\n",
    "def change_width(ax, new_value) :\n",
    "    for patch in ax.patches :\n",
    "        current_width = patch.get_width()\n",
    "        diff = current_width - new_value\n",
    "\n",
    "        # change the bar width\n",
    "        patch.set_width(new_value)\n",
    "\n",
    "        # recenter the bar\n",
    "        patch.set_x(patch.get_x() + diff * .5)\n",
    "\n",
    "change_width(ax, .40)\n",
    "plt.show()"
   ]
  },
  {
   "cell_type": "code",
   "execution_count": null,
   "id": "22cc6657",
   "metadata": {},
   "outputs": [],
   "source": []
  },
  {
   "cell_type": "markdown",
   "id": "1f07a46d",
   "metadata": {},
   "source": [
    "#### Participants by affiliation type"
   ]
  },
  {
   "cell_type": "code",
   "execution_count": null,
   "id": "eb8bf92e",
   "metadata": {
    "scrolled": false
   },
   "outputs": [],
   "source": [
    "# Create df with participants by affiliation type\n",
    "\n",
    "df_participants_by_affl = pd.DataFrame(df['affiliation_type'].value_counts())\n",
    "df_participants_by_affl.reset_index (inplace = True)\n",
    "df_participants_by_affl.rename(columns = {'index': 'affiliation type', 'affiliation_type': 'participants'}, inplace = True)\n",
    "df_participants_by_affl.head()"
   ]
  },
  {
   "cell_type": "code",
   "execution_count": null,
   "id": "48cdce19",
   "metadata": {},
   "outputs": [],
   "source": [
    "# Create horizontal bar chart \n",
    "\n",
    "barplot_horiz(df_participants_by_affl, 'participants', 'affiliation type')"
   ]
  },
  {
   "cell_type": "code",
   "execution_count": null,
   "id": "6fba520a",
   "metadata": {},
   "outputs": [],
   "source": [
    "# Excluding participants from eScience Center\n",
    "# Create df with participants by affiliation type\n",
    "\n",
    "df_participants_by_affl = pd.DataFrame(df_external['affiliation_type'].value_counts())\n",
    "df_participants_by_affl.reset_index (inplace = True)\n",
    "df_participants_by_affl.rename(columns = {'index': 'affiliation type', 'affiliation_type': 'participants'}, inplace = True)\n",
    "df_participants_by_affl.head()"
   ]
  },
  {
   "cell_type": "code",
   "execution_count": null,
   "id": "68dbc4ef",
   "metadata": {},
   "outputs": [],
   "source": [
    "# Create horizontal bar chart \n",
    "\n",
    "barplot_horiz(df_participants_by_affl, 'participants', 'affiliation type')"
   ]
  },
  {
   "cell_type": "markdown",
   "id": "be3f5da7",
   "metadata": {},
   "source": [
    "#### Participants by disciplinary section"
   ]
  },
  {
   "cell_type": "code",
   "execution_count": null,
   "id": "02dadb52",
   "metadata": {},
   "outputs": [],
   "source": [
    "# Create df with participants by disciplinary section\n",
    "# quite a lot of missing data but that's because of the eventbrite forms of some of the events\n",
    "\n",
    "df_participants_by_section = pd.DataFrame(df['NLeScdis'].value_counts())\n",
    "df_participants_by_section.reset_index (inplace = True)\n",
    "df_participants_by_section.rename(columns = {'index': 'disciplinary section', 'NLeScdis': 'participants'}, inplace = True)\n",
    "df_participants_by_section.head()"
   ]
  },
  {
   "cell_type": "code",
   "execution_count": null,
   "id": "5fc5309c",
   "metadata": {},
   "outputs": [],
   "source": [
    "df_participants_by_section['disciplinary section'].replace(\"Ph&B\",\"NSE\", inplace = True)\n",
    "df_participants_by_section.head()"
   ]
  },
  {
   "cell_type": "code",
   "execution_count": null,
   "id": "2f68d65e",
   "metadata": {
    "scrolled": false
   },
   "outputs": [],
   "source": [
    "# create bar chart with adjusted column width\n",
    "\n",
    "# adjust column width\n",
    "\n",
    "sns.set()\n",
    "sns.set_style('white')\n",
    "f, ax = plt.subplots(figsize=(8,6))\n",
    "sns.barplot(x='disciplinary section', y='participants', data=df_participants_by_section, color='deepskyblue')\n",
    "\n",
    "#ax.set_xticklabels(df_participants_by_section['disciplinary section'], rotation=40, ha='right')\n",
    "ax.tick_params(axis='both', which='major', labelsize=14)\n",
    "plt.xlabel('disciplinary section', fontsize=16)\n",
    "plt.ylabel('participants', fontsize=16)\n",
    "plt.suptitle('participants by disciplinary section', fontsize=18)\n",
    "sns.despine()\n",
    "\n",
    "change_width(ax, .50)\n",
    "\n",
    "plt.show()\n"
   ]
  },
  {
   "cell_type": "markdown",
   "id": "357cd844",
   "metadata": {},
   "source": [
    "### <span style='background:yellow'> Seems strange that Sust & Env is so low, classification issue? </span>"
   ]
  },
  {
   "cell_type": "markdown",
   "id": "796ef6c2",
   "metadata": {},
   "source": [
    "### <span style='background:yellow'> TO DO: Figure out how to display/save high-res images </span>\n"
   ]
  },
  {
   "cell_type": "code",
   "execution_count": null,
   "id": "41239ce4",
   "metadata": {},
   "outputs": [],
   "source": []
  }
 ],
 "metadata": {
  "kernelspec": {
   "display_name": "Python 3",
   "language": "python",
   "name": "python3"
  },
  "language_info": {
   "codemirror_mode": {
    "name": "ipython",
    "version": 3
   },
   "file_extension": ".py",
   "mimetype": "text/x-python",
   "name": "python",
   "nbconvert_exporter": "python",
   "pygments_lexer": "ipython3",
   "version": "3.8.8"
  }
 },
 "nbformat": 4,
 "nbformat_minor": 5
}
